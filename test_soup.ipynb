{
 "cells": [
  {
   "cell_type": "code",
   "execution_count": 1,
   "metadata": {},
   "outputs": [],
   "source": [
    "from engine import trainer\n",
    "from utils import plot_results, LinearLR, WarmupLR\n",
    "from models.model import get_model\n",
    "from torch.utils.data import ConcatDataset \n",
    "from dataset import CUBDataset, FGVCAircraft, FOODDataset\n",
    "\n",
    "import torch\n",
    "from torch.utils.data import DataLoader\n",
    "from torchvision.transforms import v2\n",
    "import torchvision\n",
    "from torch.utils.data import default_collate\n",
    "torchvision.disable_beta_transforms_warning()\n",
    "from engine import val_step\n",
    "\n",
    "\n",
    "import matplotlib.pyplot as plt\n",
    "import numpy as np\n",
    "import random\n",
    "import pandas as pd\n",
    "\n",
    "import yaml\n",
    "import json\n",
    "import time\n",
    "import os\n"
   ]
  },
  {
   "cell_type": "code",
   "execution_count": 2,
   "metadata": {},
   "outputs": [
    {
     "name": "stdout",
     "output_type": "stream",
     "text": [
      "Using cuda device\n"
     ]
    }
   ],
   "source": [
    "config = yaml.load(open('finetune_config.yaml', 'r'), Loader=yaml.FullLoader)\n",
    "\n",
    "\n",
    "LEARNING_RATE = [float(i) for i in config[\"LEARNING_RATE\"]]\n",
    "LEARNING_SCHEDULER = config[\"LEARNING_SCHEDULER\"]\n",
    "BATCH_SIZE = int(config[\"BATCH_SIZE\"])\n",
    "NUM_EPOCHS = int(config[\"NUM_EPOCHS\"])\n",
    "\n",
    "LOSS = config[\"LOSS\"]\n",
    "LABEL_SMOOTHING = float(config[\"LABEL_SMOOTHING\"])\n",
    "\n",
    "IMAGE_SIZE = int(config[\"IMAGE_SIZE\"])\n",
    "INIT_PATH = config[\"INIT_PATH\"]\n",
    "PRETRAINED = config[\"PRETRAINED\"]\n",
    "FREEZE = config[\"FREEZE\"]\n",
    "\n",
    "CUT_UP_MIX = config[\"CUT_UP_MIX\"]\n",
    "HPC = config[\"HPC\"]\n",
    "\n",
    "DEVICE = torch.device('cuda' if torch.cuda.is_available() else 'cpu')\n",
    "print(f\"Using {DEVICE} device\")"
   ]
  },
  {
   "cell_type": "code",
   "execution_count": 12,
   "metadata": {},
   "outputs": [],
   "source": [
    "state_dicts = []\n",
    "val_results = []\n",
    "MODEL = \"ConvTransNeXtBase\"\n",
    "DATASET = 1\n",
    "# WEIGHT_PATH = \"/home/nuren.zhaksylyk/Documents/CV703/CV703_Assignment_1/runs/finetune/2024-01-27_20-46-18/CUB/ConvTransNeXtTiny\"\n",
    "# WEIGHT_PATH = \"/home/nuren.zhaksylyk/Documents/CV703/CV703_Assignment_1/runs/finetune/2024-01-28_18-25-52/CUB/ConvTransNeXtBase\"\n",
    "# WEIGHT_PATH = \"/home/nuren.zhaksylyk/Documents/CV703/CV703_Assignment_1/runs/finetune/2024-01-28_18-29-01/CUB and FGVC-Aircraft/ConvTransNeXtTiny\"\n",
    "WEIGHT_PATH = \"/home/nuren.zhaksylyk/Documents/CV703/CV703_Assignment_1/runs/finetune/2024-01-29_12-51-43/CUB and FGVC-Aircraft/ConvTransNeXtBase\"\n",
    "def START_seed():\n",
    "    seed = 9\n",
    "    torch.manual_seed(seed)\n",
    "    torch.cuda.manual_seed(seed)\n",
    "    torch.cuda.manual_seed_all(seed)\n",
    "    np.random.seed(seed)\n",
    "    random.seed(seed) "
   ]
  },
  {
   "cell_type": "code",
   "execution_count": 4,
   "metadata": {},
   "outputs": [],
   "source": [
    "START_seed()\n",
    "\n",
    "dataset_name = [\"CUB\", \"CUB and FGVC-Aircraft\", \"FoodX\"][DATASET]\n",
    "num_classes = [200, 200 + 100, 251][DATASET]\n",
    "\n",
    "#run id is date and time of the run\n",
    "\n",
    "save_root_dir = \"./runs/finetune/\" + dataset_name + '/' + MODEL\n",
    "os.makedirs(save_root_dir, exist_ok=True)\n",
    "\n",
    "\n",
    "\n",
    "#load data\n",
    "transforms_train = v2.Compose([\n",
    "    v2.ToImage(),\n",
    "    v2.RandomResizedCrop((IMAGE_SIZE, IMAGE_SIZE), scale=(0.7, 1.0), antialias=True),\n",
    "\n",
    "    # v2.AutoAugment(policy=v2.AutoAugmentPolicy.IMAGENET, ),\n",
    "    v2.RandAugment(num_ops=2, magnitude=10),\n",
    "    v2.RandomErasing(p=0.1),\n",
    "\n",
    "    v2.ToDtype(torch.float, scale=True),\n",
    "    v2.Normalize(mean=[0.485,0.456,0.406],std=[0.229,0.224,0.225]),\n",
    "])\n",
    "\n",
    "transforms_test = v2.Compose([\n",
    "    v2.ToImage(),\n",
    "    v2.ToDtype(torch.float32, scale=True),\n",
    "    v2.Resize((224, 224), antialias=True),\n",
    "    v2.Normalize(mean=[0.485,0.456,0.406],std=[0.229,0.224,0.225]),\n",
    "])\n",
    "\n",
    "\n",
    "cutmix = v2.CutMix(num_classes=num_classes, alpha=1.0)\n",
    "mixup = v2.MixUp(num_classes=num_classes, alpha=0.2)\n",
    "cutmix_or_mixup = v2.RandomChoice([cutmix, mixup])\n",
    "\n",
    "if CUT_UP_MIX:\n",
    "    def collate_fn(batch):\n",
    "        return cutmix_or_mixup(*default_collate(batch))\n",
    "else:\n",
    "    collate_fn = None\n",
    "\n",
    "if HPC:\n",
    "    dataset_path_prefix = \"/apps/local/shared/CV703/datasets/\"\n",
    "else:\n",
    "    dataset_path_prefix = \"datasets/\"\n",
    "\n",
    "if dataset_name == 'CUB':\n",
    "    dataset_path = dataset_path_prefix + \"CUB/CUB_200_2011\"\n",
    "\n",
    "    train_simple_dataset = CUBDataset(image_root_path=dataset_path, transform=transforms_test, split=\"train\")\n",
    "    train_dataset = CUBDataset(image_root_path=dataset_path, transform=transforms_train, split=\"train\")\n",
    "    test_dataset = CUBDataset(image_root_path=dataset_path, transform=transforms_test, split=\"test\")\n",
    "\n",
    "    train_simple_loader = DataLoader(train_simple_dataset, batch_size=BATCH_SIZE, shuffle=True, num_workers=8)\n",
    "    train_loader = DataLoader(train_dataset, batch_size=BATCH_SIZE, shuffle=True, num_workers=8, collate_fn=collate_fn)\n",
    "    test_loader = DataLoader(test_dataset, batch_size=BATCH_SIZE, shuffle=False, num_workers=8)\n",
    "\n",
    "    class_names = train_dataset.classes\n",
    "\n",
    "elif dataset_name == 'CUB and FGVC-Aircraft':\n",
    "\n",
    "    dataset_path_cub = dataset_path_prefix + \"CUB/CUB_200_2011\"\n",
    "    train_simple_dataset_cub = CUBDataset(image_root_path=dataset_path_cub, transform=transforms_test, split=\"train\")\n",
    "    train_dataset_cub = CUBDataset(image_root_path=dataset_path_cub, transform=transforms_train, split=\"train\")\n",
    "    test_dataset_cub = CUBDataset(image_root_path=dataset_path_cub, transform=transforms_test, split=\"test\")\n",
    "\n",
    "    dataset_path_aircraft = dataset_path_prefix + \"fgvc-aircraft-2013b\"\n",
    "    train_simple_dataset_aircraft = FGVCAircraft(root=dataset_path_aircraft, transform=transforms_test, train=True)\n",
    "    train_dataset_aircraft = FGVCAircraft(root=dataset_path_aircraft, transform=transforms_train, train=True)\n",
    "    test_dataset_aircraft = FGVCAircraft(root=dataset_path_aircraft, transform=transforms_test, train=False)\n",
    "\n",
    "    concat_dataset_train_simple = ConcatDataset([train_simple_dataset_cub, train_simple_dataset_aircraft])\n",
    "    concat_dataset_train = ConcatDataset([train_dataset_cub, train_dataset_aircraft])\n",
    "    concat_dataset_test = ConcatDataset([test_dataset_cub, test_dataset_aircraft])\n",
    "\n",
    "    train_simple_loader = torch.utils.data.DataLoader(\n",
    "                concat_dataset_train_simple,\n",
    "                batch_size=BATCH_SIZE, shuffle=True,\n",
    "                num_workers=8, pin_memory=True,\n",
    "                collate_fn=None\n",
    "                )\n",
    "    train_loader = torch.utils.data.DataLoader(\n",
    "                concat_dataset_train,\n",
    "                batch_size=BATCH_SIZE, shuffle=True,\n",
    "                num_workers=8, pin_memory=True,\n",
    "                collate_fn=collate_fn\n",
    "                )\n",
    "    test_loader = torch.utils.data.DataLoader(\n",
    "                concat_dataset_test,\n",
    "                batch_size=BATCH_SIZE, shuffle=False,\n",
    "                num_workers=8, pin_memory=True\n",
    "                )\n",
    "    \n",
    "    classes_1 = concat_dataset_train.datasets[0].classes\n",
    "    classes_2 = concat_dataset_train.datasets[1].classes\n",
    "\n",
    "    class_names = [*classes_1, *classes_2]\n",
    "\n",
    "elif dataset_name == 'FoodX':\n",
    "    dataset_path = dataset_path_prefix + \"FoodX/food_dataset\"\n",
    "\n",
    "    train_dataset = FOODDataset(data_dir=dataset_path, transform=transforms_train, split=\"train\")\n",
    "    test_dataset = FOODDataset(data_dir=dataset_path, transform=transforms_test, split=\"val\")\n",
    "\n",
    "    train_loader = DataLoader(train_dataset, batch_size=BATCH_SIZE, shuffle=True, num_workers=8, collate_fn=collate_fn)\n",
    "    test_loader = DataLoader(test_dataset, batch_size=BATCH_SIZE, shuffle=False, num_workers=8)\n",
    "\n",
    "\n",
    "\n",
    "\n"
   ]
  },
  {
   "cell_type": "code",
   "execution_count": 5,
   "metadata": {},
   "outputs": [],
   "source": [
    "state_dicts = []\n",
    "val_results = []\n",
    "test_results = []\n",
    "\n",
    "#if there is no test directory create it\n",
    "if not os.path.exists(\"test\"):\n",
    "    os.makedirs(\"test\")\n",
    "\n",
    "#if there is no folder named after dataset inside test directory create it\n",
    "if not os.path.exists(os.path.join(\"test\", dataset_name, MODEL)):\n",
    "    os.makedirs(os.path.join(\"test\", dataset_name, MODEL))\n",
    "\n",
    "test_save_path = os.path.join(\"test\", dataset_name, MODEL)"
   ]
  },
  {
   "cell_type": "code",
   "execution_count": 6,
   "metadata": {},
   "outputs": [],
   "source": [
    "def souping(model, state_dicts, alphal):\n",
    "    sd = {k : state_dicts[0][k].clone() * alphal[0] for k in state_dicts[0].keys()}\n",
    "    for i in range(1, len(state_dicts)):\n",
    "        for k in state_dicts[i].keys():\n",
    "            sd[k] = sd[k] + state_dicts[i][k].clone() * alphal[i]\n",
    "    model.load_state_dict(sd)\n",
    "    return model"
   ]
  },
  {
   "cell_type": "code",
   "execution_count": 7,
   "metadata": {},
   "outputs": [],
   "source": [
    "def greedy_souping(state_dicts, val_results, val_loader, loss, DEVICE, num_classes):\n",
    "    ranked_candidates = [i for i in range(len(state_dicts))]\n",
    "    ranked_candidates.sort(key=lambda x: -val_results[x])\n",
    "    print(ranked_candidates)\n",
    "    current_best = val_results[ranked_candidates[0]]\n",
    "    print('currentttttttt bestttttttt', current_best)\n",
    "    best_ingredients = ranked_candidates[:1]\n",
    "\n",
    "    for i in range(1, len(state_dicts)):\n",
    "        # add current index to the ingredients\n",
    "        ingredient_indices = best_ingredients + [ranked_candidates[i]]\n",
    "        alphal = [0 for i in range(len(state_dicts))]\n",
    "        for j in ingredient_indices:\n",
    "            alphal[j] = 1 / len(ingredient_indices)\n",
    "\n",
    "        # benchmark and conditionally append\n",
    "        model = get_model(MODEL, PRETRAINED, num_classes, FREEZE)\n",
    "\n",
    "        greedy_model = souping(model, state_dicts, alphal)\n",
    "        greedy_model.to(DEVICE)\n",
    "        greedy_val_loss, greedy_val_acc = val_step(greedy_model, val_loader, loss, DEVICE)\n",
    "        print(f'Models {ingredient_indices} got {greedy_val_acc} on validation.')\n",
    "        if greedy_val_acc > current_best:\n",
    "            current_best = greedy_val_acc\n",
    "            best_ingredients = ingredient_indices\n",
    "       \n",
    "\n",
    "    alphal = [0 for i in range(len(state_dicts))]\n",
    "    for j in best_ingredients:\n",
    "        alphal[j] = 1 / len(best_ingredients)\n",
    "    greedy_model = souping(model, state_dicts, alphal)\n",
    "    return greedy_model, best_ingredients\n"
   ]
  },
  {
   "cell_type": "code",
   "execution_count": 8,
   "metadata": {},
   "outputs": [],
   "source": [
    "def greedy_souping_2(state_dicts, val_results, val_loader, loss, DEVICE, num_classes):\n",
    "    ranked_candidates = [i for i in range(len(state_dicts))]\n",
    "    ranked_candidates.sort(key=lambda x: -val_results[x])\n",
    "    print(ranked_candidates)\n",
    "    current_best = val_results[ranked_candidates[0]]\n",
    "    print('currentttttttt bestttttttt', current_best)\n",
    "    best_ingredients = ranked_candidates[:1]\n",
    "    should_restart = True\n",
    "    while should_restart:\n",
    "        should_restart = False\n",
    "        included = []\n",
    "        for i in range(0, len(state_dicts)):\n",
    "            if ranked_candidates[i] in included:\n",
    "                break\n",
    "            if ranked_candidates[i] in best_ingredients:\n",
    "                continue\n",
    "            # add current index to the ingredients\n",
    "            ingredient_indices = best_ingredients + [ranked_candidates[i]]\n",
    "            included.append(ranked_candidates[i])\n",
    "            alphal = [0 for i in range(len(state_dicts))]\n",
    "            for j in ingredient_indices:\n",
    "                alphal[j] = 1 / len(ingredient_indices)\n",
    "\n",
    "            # benchmark and conditionally append\n",
    "            model = get_model(MODEL, PRETRAINED, num_classes, FREEZE)\n",
    "\n",
    "            greedy_model = souping(model, state_dicts, alphal)\n",
    "            greedy_model.to(DEVICE)\n",
    "            greedy_val_loss, greedy_val_acc = val_step(greedy_model, val_loader, loss, DEVICE)\n",
    "            print(f'Models {ingredient_indices} got {greedy_val_acc} on validation.')\n",
    "            if greedy_val_acc > current_best:\n",
    "                should_restart = True\n",
    "                included = []\n",
    "                current_best = greedy_val_acc\n",
    "                best_ingredients = ingredient_indices\n",
    "       \n",
    "\n",
    "    alphal = [0 for i in range(len(state_dicts))]\n",
    "    for j in best_ingredients:\n",
    "        alphal[j] = 1 / len(best_ingredients)\n",
    "    greedy_model = souping(model, state_dicts, alphal)\n",
    "    return greedy_model, best_ingredients\n"
   ]
  },
  {
   "cell_type": "code",
   "execution_count": 9,
   "metadata": {},
   "outputs": [],
   "source": [
    "import random\n",
    "                                        \n",
    "def greedy_souping_3_random(state_dicts, val_results, val_loader, loss, DEVICE, num_classes, best_acc):\n",
    "    ranked_candidates = [i for i in range(len(state_dicts))]\n",
    "    # ranked_candidates.sort(key=lambda x: -val_results[x])\n",
    "    print(ranked_candidates)\n",
    "    current_best = best_acc\n",
    "    print('currentttttttt bestttttttt', current_best)\n",
    "    best_ingredients = ranked_candidates\n",
    "    i_s = []\n",
    "    while True:\n",
    "        if len(best_ingredients) == 0:\n",
    "            break\n",
    "        \n",
    "        b = [x for x in range(len(best_ingredients)) if x not in i_s]\n",
    "        \n",
    "        if len(b) == 0:\n",
    "            break\n",
    "\n",
    "        i = random.choice(b)\n",
    "        i_s.append(i)\n",
    "        \n",
    "        ingredient_indices = best_ingredients[:i] + best_ingredients[i+1:]\n",
    "        alphal = [0 for i in range(len(state_dicts))]\n",
    "        for j in ingredient_indices:\n",
    "            alphal[j] = 1 / len(ingredient_indices)\n",
    "        model = get_model(MODEL, PRETRAINED, num_classes, FREEZE)\n",
    "\n",
    "        greedy_model = souping(model, state_dicts, alphal)\n",
    "        greedy_model.to(DEVICE)\n",
    "        greedy_val_loss, greedy_val_acc = val_step(greedy_model, val_loader, loss, DEVICE)\n",
    "        print(f'Models {ingredient_indices} got {greedy_val_acc} on validation.')\n",
    "        if greedy_val_acc > current_best:\n",
    "            current_best = greedy_val_acc\n",
    "            best_ingredients = ingredient_indices\n",
    "            i_s = []\n",
    "            # benchmark and conditionally append\n",
    "            \n",
    "       \n",
    "\n",
    "    alphal = [0 for i in range(len(state_dicts))]\n",
    "    for j in best_ingredients:\n",
    "        alphal[j] = 1 / len(best_ingredients)\n",
    "    greedy_model = souping(model, state_dicts, alphal)\n",
    "    return greedy_model, best_ingredients\n"
   ]
  },
  {
   "cell_type": "code",
   "execution_count": 10,
   "metadata": {},
   "outputs": [],
   "source": [
    "                                 \n",
    "def greedy_souping_3_sorted(state_dicts, val_results, val_loader, loss, DEVICE, num_classes, best_acc):\n",
    "    ranked_candidates = [i for i in range(len(state_dicts))]\n",
    "    ranked_candidates.sort(key=lambda x: val_results[x])\n",
    "    print(ranked_candidates)\n",
    "    current_best = best_acc\n",
    "    print('currentttttttt bestttttttt', current_best)\n",
    "    best_ingredients = ranked_candidates\n",
    "    i = 0\n",
    "    start = True\n",
    "    while True:\n",
    "        if len(best_ingredients) == 0:\n",
    "            break\n",
    "\n",
    "        if i >= len(best_ingredients):\n",
    "            break\n",
    "        if start:\n",
    "            ingredient_indices = best_ingredients\n",
    "            start = False\n",
    "        else:\n",
    "            ingredient_indices = best_ingredients[:i] + best_ingredients[i+1:]\n",
    "        alphal = [0 for i in range(len(state_dicts))]\n",
    "        for j in ingredient_indices:\n",
    "            alphal[j] = 1 / len(ingredient_indices)\n",
    "        model = get_model(MODEL, PRETRAINED, num_classes, FREEZE)\n",
    "\n",
    "        greedy_model = souping(model, state_dicts, alphal)\n",
    "        greedy_model.to(DEVICE)\n",
    "        greedy_val_loss, greedy_val_acc = val_step(greedy_model, val_loader, loss, DEVICE)\n",
    "        print(f'Models {ingredient_indices} got {greedy_val_acc} on validation.')\n",
    "        i+=1\n",
    "        if greedy_val_acc > current_best:\n",
    "            current_best = greedy_val_acc\n",
    "            best_ingredients = ingredient_indices\n",
    "            i = 0\n",
    "            # benchmark and conditionally append\n",
    "        \n",
    "       \n",
    "\n",
    "    alphal = [0 for i in range(len(state_dicts))]\n",
    "    for j in best_ingredients:\n",
    "        alphal[j] = 1 / len(best_ingredients)\n",
    "    greedy_model = souping(model, state_dicts, alphal)\n",
    "    return greedy_model, best_ingredients"
   ]
  },
  {
   "cell_type": "code",
   "execution_count": 13,
   "metadata": {},
   "outputs": [
    {
     "name": "stderr",
     "output_type": "stream",
     "text": [
      "/home/nuren.zhaksylyk/.conda/envs/CV701_env/lib/python3.8/site-packages/torch/nn/modules/transformer.py:282: UserWarning: enable_nested_tensor is True, but self.use_nested_tensor is False because encoder_layer.self_attn.batch_first was not True(use batch_first for better inference performance)\n",
      "  warnings.warn(f\"enable_nested_tensor is True, but self.use_nested_tensor is False because {why_not_sparsity_fast_path}\")\n",
      "100%|##########| 286/286 [00:58<00:00,  4.87it/s]\n",
      "100%|##########| 286/286 [00:43<00:00,  6.58it/s]\n",
      "100%|##########| 286/286 [00:44<00:00,  6.41it/s]\n",
      "100%|##########| 286/286 [00:42<00:00,  6.77it/s]\n",
      "100%|##########| 286/286 [00:41<00:00,  6.95it/s]\n",
      "100%|##########| 286/286 [00:44<00:00,  6.36it/s]\n",
      "100%|##########| 286/286 [00:42<00:00,  6.76it/s]\n",
      "100%|##########| 286/286 [00:41<00:00,  6.96it/s]\n",
      "100%|##########| 286/286 [00:47<00:00,  6.08it/s]\n",
      "100%|##########| 286/286 [00:43<00:00,  6.61it/s]\n",
      "100%|##########| 286/286 [00:43<00:00,  6.60it/s]\n",
      "100%|##########| 286/286 [00:43<00:00,  6.50it/s]\n"
     ]
    }
   ],
   "source": [
    "for idx, folder in enumerate(sorted(os.listdir(WEIGHT_PATH))):\n",
    "\n",
    "    model_path = os.path.join(WEIGHT_PATH, folder)\n",
    "    #read config in train_summary.json\n",
    "    train_summary = json.load(open(os.path.join(model_path, \"train_summary.json\"), 'r'))\n",
    "    model_config = train_summary[\"config\"]\n",
    "    \n",
    "    #load model\n",
    "    checkpoint = torch.load(os.path.join(model_path, \"best_model.pth\"), map_location=DEVICE)\n",
    "    state_dicts.append(checkpoint)\n",
    "    model = get_model(MODEL, PRETRAINED, num_classes, FREEZE)\n",
    "    model.load_state_dict(checkpoint)\n",
    "    model = model.to(DEVICE)\n",
    "    #load loss function\n",
    "    LOSS = model_config[\"LOSS\"]\n",
    "    if LOSS == \"MSE\":\n",
    "        loss = torch.nn.MSELoss()\n",
    "    elif LOSS == \"L1Loss\":\n",
    "        loss = torch.nn.L1Loss()\n",
    "    elif LOSS == \"SmoothL1Loss\":\n",
    "        loss = torch.nn.SmoothL1Loss()\n",
    "    elif LOSS == \"CrossEntropyLoss\":\n",
    "        loss = torch.nn.CrossEntropyLoss()\n",
    "    elif LOSS == \"BCEWithLogitsLoss\":\n",
    "        loss = torch.nn.BCEWithLogitsLoss()\n",
    "    \n",
    "    val_loss, val_acc = val_step(model, test_loader, loss, device = DEVICE)\n",
    "\n",
    "    val_results.append({'Model Name': idx,\n",
    "                                    'Val Accuracy': val_acc,\n",
    "                                    'LR': train_summary[\"results\"][\"learning_rate\"][0],\n",
    "                                    })\n",
    "\n",
    "\n",
    "\n"
   ]
  },
  {
   "cell_type": "markdown",
   "metadata": {},
   "source": [
    "# ***ConvNeXtBase --- CUB***"
   ]
  },
  {
   "cell_type": "code",
   "execution_count": 12,
   "metadata": {},
   "outputs": [
    {
     "name": "stdout",
     "output_type": "stream",
     "text": [
      "Best model Val Accuracy: 0.8797031411805316\n",
      "Second best model Val Accuracy: 0.8797031411805316\n",
      "Worst model Val Accuracy: 0.5918191232309286\n",
      "Uniform souping ...\n"
     ]
    },
    {
     "name": "stderr",
     "output_type": "stream",
     "text": [
      "100%|##########| 182/182 [00:28<00:00,  6.47it/s]\n"
     ]
    },
    {
     "name": "stdout",
     "output_type": "stream",
     "text": [
      "Uniform souping accuracy: 0.880738695201933\n",
      "Greedy souping ...\n",
      "[6, 9, 5, 4, 11, 8, 10, 7, 0, 1, 2, 3]\n",
      "currentttttttt bestttttttt 0.8797031411805316\n"
     ]
    },
    {
     "name": "stderr",
     "output_type": "stream",
     "text": [
      "100%|##########| 182/182 [00:28<00:00,  6.48it/s]\n"
     ]
    },
    {
     "name": "stdout",
     "output_type": "stream",
     "text": [
      "Models [6, 9] got 0.881429064549534 on validation.\n"
     ]
    },
    {
     "name": "stderr",
     "output_type": "stream",
     "text": [
      "100%|##########| 182/182 [00:26<00:00,  6.96it/s]\n"
     ]
    },
    {
     "name": "stdout",
     "output_type": "stream",
     "text": [
      "Models [6, 9, 5] got 0.8816016568864342 on validation.\n"
     ]
    },
    {
     "name": "stderr",
     "output_type": "stream",
     "text": [
      "100%|##########| 182/182 [00:25<00:00,  7.14it/s]\n"
     ]
    },
    {
     "name": "stdout",
     "output_type": "stream",
     "text": [
      "Models [6, 9, 5, 4] got 0.8803935105281325 on validation.\n"
     ]
    },
    {
     "name": "stderr",
     "output_type": "stream",
     "text": [
      "100%|##########| 182/182 [00:25<00:00,  7.14it/s]\n"
     ]
    },
    {
     "name": "stdout",
     "output_type": "stream",
     "text": [
      "Models [6, 9, 5, 11] got 0.880738695201933 on validation.\n"
     ]
    },
    {
     "name": "stderr",
     "output_type": "stream",
     "text": [
      "100%|##########| 182/182 [00:25<00:00,  7.14it/s]\n"
     ]
    },
    {
     "name": "stdout",
     "output_type": "stream",
     "text": [
      "Models [6, 9, 5, 8] got 0.8805661028650328 on validation.\n"
     ]
    },
    {
     "name": "stderr",
     "output_type": "stream",
     "text": [
      "100%|##########| 182/182 [00:25<00:00,  7.12it/s]\n"
     ]
    },
    {
     "name": "stdout",
     "output_type": "stream",
     "text": [
      "Models [6, 9, 5, 10] got 0.8805661028650328 on validation.\n"
     ]
    },
    {
     "name": "stderr",
     "output_type": "stream",
     "text": [
      "100%|##########| 182/182 [00:25<00:00,  7.13it/s]\n"
     ]
    },
    {
     "name": "stdout",
     "output_type": "stream",
     "text": [
      "Models [6, 9, 5, 7] got 0.8816016568864342 on validation.\n"
     ]
    },
    {
     "name": "stderr",
     "output_type": "stream",
     "text": [
      "100%|##########| 182/182 [00:25<00:00,  7.11it/s]\n"
     ]
    },
    {
     "name": "stdout",
     "output_type": "stream",
     "text": [
      "Models [6, 9, 5, 0] got 0.8809112875388333 on validation.\n"
     ]
    },
    {
     "name": "stderr",
     "output_type": "stream",
     "text": [
      "100%|##########| 182/182 [00:25<00:00,  7.12it/s]\n"
     ]
    },
    {
     "name": "stdout",
     "output_type": "stream",
     "text": [
      "Models [6, 9, 5, 1] got 0.8816016568864342 on validation.\n"
     ]
    },
    {
     "name": "stderr",
     "output_type": "stream",
     "text": [
      "100%|##########| 182/182 [00:25<00:00,  7.11it/s]\n"
     ]
    },
    {
     "name": "stdout",
     "output_type": "stream",
     "text": [
      "Models [6, 9, 5, 2] got 0.8797031411805316 on validation.\n"
     ]
    },
    {
     "name": "stderr",
     "output_type": "stream",
     "text": [
      "100%|##########| 182/182 [00:25<00:00,  7.14it/s]\n"
     ]
    },
    {
     "name": "stdout",
     "output_type": "stream",
     "text": [
      "Models [6, 9, 5, 3] got 0.8688298239558163 on validation.\n",
      "VAL INGREDIENTS [6, 9, 5]\n"
     ]
    },
    {
     "name": "stderr",
     "output_type": "stream",
     "text": [
      "100%|##########| 182/182 [00:25<00:00,  7.10it/s]\n"
     ]
    },
    {
     "name": "stdout",
     "output_type": "stream",
     "text": [
      "Greedy souping accuracy: 0.8816016568864342\n",
      "Greedy souping version 2 ...\n",
      "[6, 9, 5, 4, 11, 8, 10, 7, 0, 1, 2, 3]\n",
      "currentttttttt bestttttttt 0.8797031411805316\n"
     ]
    },
    {
     "name": "stderr",
     "output_type": "stream",
     "text": [
      "100%|##########| 182/182 [00:25<00:00,  7.14it/s]\n"
     ]
    },
    {
     "name": "stdout",
     "output_type": "stream",
     "text": [
      "Models [6, 9] got 0.881429064549534 on validation.\n"
     ]
    },
    {
     "name": "stderr",
     "output_type": "stream",
     "text": [
      "100%|##########| 182/182 [00:25<00:00,  7.13it/s]\n"
     ]
    },
    {
     "name": "stdout",
     "output_type": "stream",
     "text": [
      "Models [6, 9, 5] got 0.8816016568864342 on validation.\n"
     ]
    },
    {
     "name": "stderr",
     "output_type": "stream",
     "text": [
      "100%|##########| 182/182 [00:25<00:00,  7.13it/s]\n"
     ]
    },
    {
     "name": "stdout",
     "output_type": "stream",
     "text": [
      "Models [6, 9, 5, 4] got 0.8803935105281325 on validation.\n"
     ]
    },
    {
     "name": "stderr",
     "output_type": "stream",
     "text": [
      "100%|##########| 182/182 [00:25<00:00,  7.14it/s]\n"
     ]
    },
    {
     "name": "stdout",
     "output_type": "stream",
     "text": [
      "Models [6, 9, 5, 11] got 0.880738695201933 on validation.\n"
     ]
    },
    {
     "name": "stderr",
     "output_type": "stream",
     "text": [
      "100%|##########| 182/182 [00:25<00:00,  7.12it/s]\n"
     ]
    },
    {
     "name": "stdout",
     "output_type": "stream",
     "text": [
      "Models [6, 9, 5, 8] got 0.8805661028650328 on validation.\n"
     ]
    },
    {
     "name": "stderr",
     "output_type": "stream",
     "text": [
      "100%|##########| 182/182 [00:28<00:00,  6.41it/s]\n"
     ]
    },
    {
     "name": "stdout",
     "output_type": "stream",
     "text": [
      "Models [6, 9, 5, 10] got 0.8805661028650328 on validation.\n"
     ]
    },
    {
     "name": "stderr",
     "output_type": "stream",
     "text": [
      "100%|##########| 182/182 [00:28<00:00,  6.46it/s]\n"
     ]
    },
    {
     "name": "stdout",
     "output_type": "stream",
     "text": [
      "Models [6, 9, 5, 7] got 0.8816016568864342 on validation.\n"
     ]
    },
    {
     "name": "stderr",
     "output_type": "stream",
     "text": [
      "100%|##########| 182/182 [00:28<00:00,  6.46it/s]\n"
     ]
    },
    {
     "name": "stdout",
     "output_type": "stream",
     "text": [
      "Models [6, 9, 5, 0] got 0.8809112875388333 on validation.\n"
     ]
    },
    {
     "name": "stderr",
     "output_type": "stream",
     "text": [
      "100%|##########| 182/182 [00:28<00:00,  6.42it/s]\n"
     ]
    },
    {
     "name": "stdout",
     "output_type": "stream",
     "text": [
      "Models [6, 9, 5, 1] got 0.8816016568864342 on validation.\n"
     ]
    },
    {
     "name": "stderr",
     "output_type": "stream",
     "text": [
      "100%|##########| 182/182 [00:28<00:00,  6.44it/s]\n"
     ]
    },
    {
     "name": "stdout",
     "output_type": "stream",
     "text": [
      "Models [6, 9, 5, 2] got 0.8797031411805316 on validation.\n"
     ]
    },
    {
     "name": "stderr",
     "output_type": "stream",
     "text": [
      "100%|##########| 182/182 [00:28<00:00,  6.43it/s]\n"
     ]
    },
    {
     "name": "stdout",
     "output_type": "stream",
     "text": [
      "Models [6, 9, 5, 3] got 0.8688298239558163 on validation.\n"
     ]
    },
    {
     "name": "stderr",
     "output_type": "stream",
     "text": [
      "100%|##########| 182/182 [00:28<00:00,  6.43it/s]\n"
     ]
    },
    {
     "name": "stdout",
     "output_type": "stream",
     "text": [
      "Models [6, 9, 5, 4] got 0.8803935105281325 on validation.\n"
     ]
    },
    {
     "name": "stderr",
     "output_type": "stream",
     "text": [
      "100%|##########| 182/182 [00:28<00:00,  6.45it/s]\n"
     ]
    },
    {
     "name": "stdout",
     "output_type": "stream",
     "text": [
      "Models [6, 9, 5, 11] got 0.880738695201933 on validation.\n"
     ]
    },
    {
     "name": "stderr",
     "output_type": "stream",
     "text": [
      "100%|##########| 182/182 [00:28<00:00,  6.45it/s]\n"
     ]
    },
    {
     "name": "stdout",
     "output_type": "stream",
     "text": [
      "Models [6, 9, 5, 8] got 0.8805661028650328 on validation.\n"
     ]
    },
    {
     "name": "stderr",
     "output_type": "stream",
     "text": [
      "100%|##########| 182/182 [00:28<00:00,  6.45it/s]\n"
     ]
    },
    {
     "name": "stdout",
     "output_type": "stream",
     "text": [
      "Models [6, 9, 5, 10] got 0.8805661028650328 on validation.\n"
     ]
    },
    {
     "name": "stderr",
     "output_type": "stream",
     "text": [
      "100%|##########| 182/182 [00:27<00:00,  6.67it/s]\n"
     ]
    },
    {
     "name": "stdout",
     "output_type": "stream",
     "text": [
      "Models [6, 9, 5, 7] got 0.8816016568864342 on validation.\n"
     ]
    },
    {
     "name": "stderr",
     "output_type": "stream",
     "text": [
      "100%|##########| 182/182 [00:25<00:00,  7.12it/s]\n"
     ]
    },
    {
     "name": "stdout",
     "output_type": "stream",
     "text": [
      "Models [6, 9, 5, 0] got 0.8809112875388333 on validation.\n"
     ]
    },
    {
     "name": "stderr",
     "output_type": "stream",
     "text": [
      "100%|##########| 182/182 [00:25<00:00,  7.13it/s]\n"
     ]
    },
    {
     "name": "stdout",
     "output_type": "stream",
     "text": [
      "Models [6, 9, 5, 1] got 0.8816016568864342 on validation.\n"
     ]
    },
    {
     "name": "stderr",
     "output_type": "stream",
     "text": [
      "100%|##########| 182/182 [00:25<00:00,  7.11it/s]\n"
     ]
    },
    {
     "name": "stdout",
     "output_type": "stream",
     "text": [
      "Models [6, 9, 5, 2] got 0.8797031411805316 on validation.\n"
     ]
    },
    {
     "name": "stderr",
     "output_type": "stream",
     "text": [
      "100%|##########| 182/182 [00:25<00:00,  7.12it/s]\n"
     ]
    },
    {
     "name": "stdout",
     "output_type": "stream",
     "text": [
      "Models [6, 9, 5, 3] got 0.8688298239558163 on validation.\n",
      "VAL INGREDIENTS [6, 9, 5]\n"
     ]
    },
    {
     "name": "stderr",
     "output_type": "stream",
     "text": [
      "100%|##########| 182/182 [00:25<00:00,  7.12it/s]\n"
     ]
    },
    {
     "name": "stdout",
     "output_type": "stream",
     "text": [
      "Greedy souping accuracy: 0.8816016568864342\n",
      "Greedy souping version 3 ...\n",
      "[3, 2, 1, 0, 7, 8, 10, 11, 4, 5, 6, 9]\n",
      "currentttttttt bestttttttt 0.8797031411805316\n"
     ]
    },
    {
     "name": "stderr",
     "output_type": "stream",
     "text": [
      "100%|##########| 182/182 [00:25<00:00,  7.11it/s]\n"
     ]
    },
    {
     "name": "stdout",
     "output_type": "stream",
     "text": [
      "Models [3, 2, 1, 0, 7, 8, 10, 11, 4, 5, 6, 9] got 0.880738695201933 on validation.\n"
     ]
    },
    {
     "name": "stderr",
     "output_type": "stream",
     "text": [
      "100%|##########| 182/182 [00:25<00:00,  7.14it/s]\n"
     ]
    },
    {
     "name": "stdout",
     "output_type": "stream",
     "text": [
      "Models [2, 1, 0, 7, 8, 10, 11, 4, 5, 6, 9] got 0.8810838798757336 on validation.\n"
     ]
    },
    {
     "name": "stderr",
     "output_type": "stream",
     "text": [
      "100%|##########| 182/182 [00:25<00:00,  7.11it/s]\n"
     ]
    },
    {
     "name": "stdout",
     "output_type": "stream",
     "text": [
      "Models [1, 0, 7, 8, 10, 11, 4, 5, 6, 9] got 0.881429064549534 on validation.\n"
     ]
    },
    {
     "name": "stderr",
     "output_type": "stream",
     "text": [
      "100%|##########| 182/182 [00:25<00:00,  7.13it/s]\n"
     ]
    },
    {
     "name": "stdout",
     "output_type": "stream",
     "text": [
      "Models [0, 7, 8, 10, 11, 4, 5, 6, 9] got 0.8812564722126338 on validation.\n"
     ]
    },
    {
     "name": "stderr",
     "output_type": "stream",
     "text": [
      "100%|##########| 182/182 [00:25<00:00,  7.13it/s]\n"
     ]
    },
    {
     "name": "stdout",
     "output_type": "stream",
     "text": [
      "Models [1, 7, 8, 10, 11, 4, 5, 6, 9] got 0.8809112875388333 on validation.\n"
     ]
    },
    {
     "name": "stderr",
     "output_type": "stream",
     "text": [
      "100%|##########| 182/182 [00:25<00:00,  7.13it/s]\n"
     ]
    },
    {
     "name": "stdout",
     "output_type": "stream",
     "text": [
      "Models [1, 0, 8, 10, 11, 4, 5, 6, 9] got 0.8802209181912323 on validation.\n"
     ]
    },
    {
     "name": "stderr",
     "output_type": "stream",
     "text": [
      "100%|##########| 182/182 [00:25<00:00,  7.10it/s]\n"
     ]
    },
    {
     "name": "stdout",
     "output_type": "stream",
     "text": [
      "Models [1, 0, 7, 10, 11, 4, 5, 6, 9] got 0.8817742492233345 on validation.\n"
     ]
    },
    {
     "name": "stderr",
     "output_type": "stream",
     "text": [
      "100%|##########| 182/182 [00:25<00:00,  7.13it/s]\n"
     ]
    },
    {
     "name": "stdout",
     "output_type": "stream",
     "text": [
      "Models [0, 7, 10, 11, 4, 5, 6, 9] got 0.8816016568864342 on validation.\n"
     ]
    },
    {
     "name": "stderr",
     "output_type": "stream",
     "text": [
      "100%|##########| 182/182 [00:25<00:00,  7.12it/s]\n"
     ]
    },
    {
     "name": "stdout",
     "output_type": "stream",
     "text": [
      "Models [1, 7, 10, 11, 4, 5, 6, 9] got 0.8816016568864342 on validation.\n"
     ]
    },
    {
     "name": "stderr",
     "output_type": "stream",
     "text": [
      "100%|##########| 182/182 [00:25<00:00,  7.11it/s]\n"
     ]
    },
    {
     "name": "stdout",
     "output_type": "stream",
     "text": [
      "Models [1, 0, 10, 11, 4, 5, 6, 9] got 0.8810838798757336 on validation.\n"
     ]
    },
    {
     "name": "stderr",
     "output_type": "stream",
     "text": [
      "100%|##########| 182/182 [00:25<00:00,  7.09it/s]\n"
     ]
    },
    {
     "name": "stdout",
     "output_type": "stream",
     "text": [
      "Models [1, 0, 7, 11, 4, 5, 6, 9] got 0.8822920262340352 on validation.\n"
     ]
    },
    {
     "name": "stderr",
     "output_type": "stream",
     "text": [
      "100%|##########| 182/182 [00:25<00:00,  7.12it/s]\n"
     ]
    },
    {
     "name": "stdout",
     "output_type": "stream",
     "text": [
      "Models [0, 7, 11, 4, 5, 6, 9] got 0.882119433897135 on validation.\n"
     ]
    },
    {
     "name": "stderr",
     "output_type": "stream",
     "text": [
      "100%|##########| 182/182 [00:25<00:00,  7.10it/s]\n"
     ]
    },
    {
     "name": "stdout",
     "output_type": "stream",
     "text": [
      "Models [1, 7, 11, 4, 5, 6, 9] got 0.8828098032447359 on validation.\n"
     ]
    },
    {
     "name": "stderr",
     "output_type": "stream",
     "text": [
      "100%|##########| 182/182 [00:25<00:00,  7.10it/s]\n"
     ]
    },
    {
     "name": "stdout",
     "output_type": "stream",
     "text": [
      "Models [7, 11, 4, 5, 6, 9] got 0.8812564722126338 on validation.\n"
     ]
    },
    {
     "name": "stderr",
     "output_type": "stream",
     "text": [
      "100%|##########| 182/182 [00:25<00:00,  7.11it/s]\n"
     ]
    },
    {
     "name": "stdout",
     "output_type": "stream",
     "text": [
      "Models [1, 11, 4, 5, 6, 9] got 0.882119433897135 on validation.\n"
     ]
    },
    {
     "name": "stderr",
     "output_type": "stream",
     "text": [
      "100%|##########| 182/182 [00:26<00:00,  6.97it/s]\n"
     ]
    },
    {
     "name": "stdout",
     "output_type": "stream",
     "text": [
      "Models [1, 7, 4, 5, 6, 9] got 0.8824646185709355 on validation.\n"
     ]
    },
    {
     "name": "stderr",
     "output_type": "stream",
     "text": [
      "100%|##########| 182/182 [00:28<00:00,  6.42it/s]\n"
     ]
    },
    {
     "name": "stdout",
     "output_type": "stream",
     "text": [
      "Models [1, 7, 11, 5, 6, 9] got 0.8826372109078356 on validation.\n"
     ]
    },
    {
     "name": "stderr",
     "output_type": "stream",
     "text": [
      "100%|##########| 182/182 [00:28<00:00,  6.40it/s]\n"
     ]
    },
    {
     "name": "stdout",
     "output_type": "stream",
     "text": [
      "Models [1, 7, 11, 4, 6, 9] got 0.8822920262340352 on validation.\n"
     ]
    },
    {
     "name": "stderr",
     "output_type": "stream",
     "text": [
      "100%|##########| 182/182 [00:28<00:00,  6.45it/s]\n"
     ]
    },
    {
     "name": "stdout",
     "output_type": "stream",
     "text": [
      "Models [1, 7, 11, 4, 5, 9] got 0.8826372109078356 on validation.\n"
     ]
    },
    {
     "name": "stderr",
     "output_type": "stream",
     "text": [
      "100%|##########| 182/182 [00:28<00:00,  6.43it/s]\n"
     ]
    },
    {
     "name": "stdout",
     "output_type": "stream",
     "text": [
      "Models [1, 7, 11, 4, 5, 6] got 0.8828098032447359 on validation.\n",
      "VAL INGREDIENTS [1, 7, 11, 4, 5, 6, 9]\n"
     ]
    },
    {
     "name": "stderr",
     "output_type": "stream",
     "text": [
      "100%|##########| 182/182 [00:28<00:00,  6.44it/s]"
     ]
    },
    {
     "name": "stdout",
     "output_type": "stream",
     "text": [
      "Greedy souping accuracy: 0.8828098032447359\n"
     ]
    },
    {
     "name": "stderr",
     "output_type": "stream",
     "text": [
      "\n"
     ]
    }
   ],
   "source": [
    "results_val_df = pd.DataFrame(val_results)\n",
    "\n",
    "val_copy = results_val_df.copy()\n",
    "sorted_val = val_copy.sort_values(by= 'Val Accuracy',ascending=False)\n",
    "sorted_val.to_csv(os.path.join(test_save_path, \"VAL_RESULTS.csv\"), index=False)\n",
    "\n",
    "print(f\"Best model Val Accuracy: {sorted_val.iloc[0]['Val Accuracy']}\")\n",
    "print(f\"Second best model Val Accuracy: {sorted_val.iloc[1]['Val Accuracy']}\")\n",
    "print(f\"Worst model Val Accuracy: {sorted_val.iloc[-1]['Val Accuracy']}\")\n",
    "\n",
    "#UNIFORM\n",
    "print(\"Uniform souping ...\")\n",
    "alphal = [1 / len(state_dicts) for i in range(len(state_dicts))]\n",
    "model = get_model(MODEL, PRETRAINED, num_classes, FREEZE)\n",
    "uniform_model = souping(model, state_dicts, alphal)\n",
    "uniform_model.to(DEVICE)\n",
    "\n",
    "uniform_test_loss, uniform_test_acc  = val_step(uniform_model, test_loader, loss, DEVICE)\n",
    "print(f\"Uniform souping accuracy: {uniform_test_acc}\")\n",
    "\n",
    "#greedy\n",
    "\n",
    "print(\"Greedy souping ...\")\n",
    "model = get_model(MODEL, PRETRAINED, num_classes, FREEZE)\n",
    "\n",
    "val_res = list(results_val_df['Val Accuracy'])\n",
    "greedy_model, best_ingredients = greedy_souping(state_dicts, val_res, test_loader, loss, DEVICE, num_classes)\n",
    "greedy_model.to(DEVICE)\n",
    "print('VAL INGREDIENTS',best_ingredients)\n",
    "greedy_test_loss, greedy_test_acc = val_step(greedy_model, test_loader, loss, DEVICE)\n",
    "\n",
    "print(f\"Greedy souping accuracy: {greedy_test_acc}\")\n",
    "\n",
    "\n",
    "print(\"Greedy souping version 2 ...\")\n",
    "model = get_model(MODEL, PRETRAINED, num_classes, FREEZE)\n",
    "\n",
    "val_res = list(results_val_df['Val Accuracy'])\n",
    "greedy_model, best_ingredients = greedy_souping_2(state_dicts, val_res, test_loader, loss, DEVICE, num_classes)\n",
    "greedy_model.to(DEVICE)\n",
    "print('VAL INGREDIENTS',best_ingredients)\n",
    "greedy_test_loss, greedy_test_acc = val_step(greedy_model, test_loader, loss, DEVICE)\n",
    "\n",
    "print(f\"Greedy souping accuracy: {greedy_test_acc}\")\n",
    "\n",
    "print(\"Greedy souping version 3 ...\")\n",
    "model = get_model(MODEL, PRETRAINED, num_classes, FREEZE)\n",
    "\n",
    "val_res = list(results_val_df['Val Accuracy'])\n",
    "greedy_model, best_ingredients = greedy_souping_3_sorted(state_dicts, val_res, test_loader, loss, DEVICE, num_classes, sorted_val.iloc[0]['Val Accuracy'])\n",
    "greedy_model.to(DEVICE)\n",
    "print('VAL INGREDIENTS',best_ingredients)\n",
    "greedy_test_loss, greedy_test_acc = val_step(greedy_model, test_loader, loss, DEVICE)\n",
    "\n",
    "print(f\"Greedy souping accuracy: {greedy_test_acc}\")\n",
    "\n"
   ]
  },
  {
   "cell_type": "markdown",
   "metadata": {},
   "source": [
    "# ***ConvNeXtTiny --- CUB***"
   ]
  },
  {
   "cell_type": "code",
   "execution_count": 15,
   "metadata": {},
   "outputs": [
    {
     "name": "stdout",
     "output_type": "stream",
     "text": [
      "Best model Val Accuracy: 0.8626164998274076\n",
      "Second best model Val Accuracy: 0.8603727994477045\n",
      "Worst model Val Accuracy: 0.8117017604418364\n",
      "Uniform souping ...\n"
     ]
    },
    {
     "name": "stderr",
     "output_type": "stream",
     "text": [
      "100%|##########| 182/182 [00:17<00:00, 10.23it/s]\n"
     ]
    },
    {
     "name": "stdout",
     "output_type": "stream",
     "text": [
      "Uniform souping accuracy: 0.8629616845012081\n",
      "Greedy souping ...\n",
      "[4, 6, 0, 5, 10, 11, 9, 8, 7, 1, 2, 3]\n",
      "currentttttttt bestttttttt 0.8626164998274076\n"
     ]
    },
    {
     "name": "stderr",
     "output_type": "stream",
     "text": [
      "100%|##########| 182/182 [00:16<00:00, 11.04it/s]\n"
     ]
    },
    {
     "name": "stdout",
     "output_type": "stream",
     "text": [
      "Models [4, 6] got 0.8631342768381084 on validation.\n"
     ]
    },
    {
     "name": "stderr",
     "output_type": "stream",
     "text": [
      "100%|##########| 182/182 [00:17<00:00, 10.15it/s]\n"
     ]
    },
    {
     "name": "stdout",
     "output_type": "stream",
     "text": [
      "Models [4, 6, 0] got 0.8627890921643079 on validation.\n"
     ]
    },
    {
     "name": "stderr",
     "output_type": "stream",
     "text": [
      "100%|##########| 182/182 [00:17<00:00, 10.55it/s]\n"
     ]
    },
    {
     "name": "stdout",
     "output_type": "stream",
     "text": [
      "Models [4, 6, 5] got 0.8627890921643079 on validation.\n"
     ]
    },
    {
     "name": "stderr",
     "output_type": "stream",
     "text": [
      "100%|##########| 182/182 [00:17<00:00, 10.14it/s]\n"
     ]
    },
    {
     "name": "stdout",
     "output_type": "stream",
     "text": [
      "Models [4, 6, 10] got 0.8643424231964101 on validation.\n"
     ]
    },
    {
     "name": "stderr",
     "output_type": "stream",
     "text": [
      "100%|##########| 182/182 [00:17<00:00, 10.35it/s]\n"
     ]
    },
    {
     "name": "stdout",
     "output_type": "stream",
     "text": [
      "Models [4, 6, 10, 11] got 0.8634794615119089 on validation.\n"
     ]
    },
    {
     "name": "stderr",
     "output_type": "stream",
     "text": [
      "100%|##########| 182/182 [00:16<00:00, 10.82it/s]\n"
     ]
    },
    {
     "name": "stdout",
     "output_type": "stream",
     "text": [
      "Models [4, 6, 10, 9] got 0.8638246461857093 on validation.\n"
     ]
    },
    {
     "name": "stderr",
     "output_type": "stream",
     "text": [
      "100%|##########| 182/182 [00:16<00:00, 11.00it/s]\n"
     ]
    },
    {
     "name": "stdout",
     "output_type": "stream",
     "text": [
      "Models [4, 6, 10, 8] got 0.8638246461857093 on validation.\n"
     ]
    },
    {
     "name": "stderr",
     "output_type": "stream",
     "text": [
      "100%|##########| 182/182 [00:17<00:00, 10.16it/s]\n"
     ]
    },
    {
     "name": "stdout",
     "output_type": "stream",
     "text": [
      "Models [4, 6, 10, 7] got 0.8633068691750087 on validation.\n"
     ]
    },
    {
     "name": "stderr",
     "output_type": "stream",
     "text": [
      "100%|##########| 182/182 [00:17<00:00, 10.16it/s]\n"
     ]
    },
    {
     "name": "stdout",
     "output_type": "stream",
     "text": [
      "Models [4, 6, 10, 1] got 0.8658957542285123 on validation.\n"
     ]
    },
    {
     "name": "stderr",
     "output_type": "stream",
     "text": [
      "100%|##########| 182/182 [00:16<00:00, 10.97it/s]\n"
     ]
    },
    {
     "name": "stdout",
     "output_type": "stream",
     "text": [
      "Models [4, 6, 10, 1, 2] got 0.8629616845012081 on validation.\n"
     ]
    },
    {
     "name": "stderr",
     "output_type": "stream",
     "text": [
      "100%|##########| 182/182 [00:16<00:00, 11.21it/s]\n"
     ]
    },
    {
     "name": "stdout",
     "output_type": "stream",
     "text": [
      "Models [4, 6, 10, 1, 3] got 0.8627890921643079 on validation.\n",
      "VAL INGREDIENTS [4, 6, 10, 1]\n"
     ]
    },
    {
     "name": "stderr",
     "output_type": "stream",
     "text": [
      "100%|##########| 182/182 [00:15<00:00, 11.84it/s]\n"
     ]
    },
    {
     "name": "stdout",
     "output_type": "stream",
     "text": [
      "Greedy souping accuracy: 0.8658957542285123\n",
      "Greedy souping version 3 ...\n",
      "[3, 2, 1, 7, 8, 9, 11, 5, 10, 0, 6, 4]\n",
      "currentttttttt bestttttttt 0.8626164998274076\n"
     ]
    },
    {
     "name": "stderr",
     "output_type": "stream",
     "text": [
      "100%|##########| 182/182 [00:15<00:00, 11.66it/s]\n"
     ]
    },
    {
     "name": "stdout",
     "output_type": "stream",
     "text": [
      "Models [2, 1, 7, 8, 9, 11, 5, 10, 0, 6, 4] got 0.8639972385226096 on validation.\n"
     ]
    },
    {
     "name": "stderr",
     "output_type": "stream",
     "text": [
      "100%|##########| 182/182 [00:15<00:00, 11.84it/s]\n"
     ]
    },
    {
     "name": "stdout",
     "output_type": "stream",
     "text": [
      "Models [1, 7, 8, 9, 11, 5, 10, 0, 6, 4] got 0.865032792544011 on validation.\n"
     ]
    },
    {
     "name": "stderr",
     "output_type": "stream",
     "text": [
      "100%|##########| 182/182 [00:15<00:00, 11.46it/s]\n"
     ]
    },
    {
     "name": "stdout",
     "output_type": "stream",
     "text": [
      "Models [7, 8, 9, 11, 5, 10, 0, 6, 4] got 0.862098722816707 on validation.\n"
     ]
    },
    {
     "name": "stderr",
     "output_type": "stream",
     "text": [
      "100%|##########| 182/182 [00:15<00:00, 12.12it/s]\n"
     ]
    },
    {
     "name": "stdout",
     "output_type": "stream",
     "text": [
      "Models [1, 8, 9, 11, 5, 10, 0, 6, 4] got 0.865032792544011 on validation.\n"
     ]
    },
    {
     "name": "stderr",
     "output_type": "stream",
     "text": [
      "100%|##########| 182/182 [00:15<00:00, 11.97it/s]\n"
     ]
    },
    {
     "name": "stdout",
     "output_type": "stream",
     "text": [
      "Models [1, 7, 9, 11, 5, 10, 0, 6, 4] got 0.8653779772178115 on validation.\n"
     ]
    },
    {
     "name": "stderr",
     "output_type": "stream",
     "text": [
      "100%|##########| 182/182 [00:15<00:00, 12.11it/s]\n"
     ]
    },
    {
     "name": "stdout",
     "output_type": "stream",
     "text": [
      "Models [7, 9, 11, 5, 10, 0, 6, 4] got 0.8634794615119089 on validation.\n"
     ]
    },
    {
     "name": "stderr",
     "output_type": "stream",
     "text": [
      "100%|##########| 182/182 [00:15<00:00, 11.92it/s]\n"
     ]
    },
    {
     "name": "stdout",
     "output_type": "stream",
     "text": [
      "Models [1, 9, 11, 5, 10, 0, 6, 4] got 0.8646876078702106 on validation.\n"
     ]
    },
    {
     "name": "stderr",
     "output_type": "stream",
     "text": [
      "100%|##########| 182/182 [00:15<00:00, 12.07it/s]\n"
     ]
    },
    {
     "name": "stdout",
     "output_type": "stream",
     "text": [
      "Models [1, 7, 11, 5, 10, 0, 6, 4] got 0.8658957542285123 on validation.\n"
     ]
    },
    {
     "name": "stderr",
     "output_type": "stream",
     "text": [
      "100%|##########| 182/182 [00:16<00:00, 10.94it/s]\n"
     ]
    },
    {
     "name": "stdout",
     "output_type": "stream",
     "text": [
      "Models [7, 11, 5, 10, 0, 6, 4] got 0.8634794615119089 on validation.\n"
     ]
    },
    {
     "name": "stderr",
     "output_type": "stream",
     "text": [
      "100%|##########| 182/182 [00:16<00:00, 11.15it/s]\n"
     ]
    },
    {
     "name": "stdout",
     "output_type": "stream",
     "text": [
      "Models [1, 11, 5, 10, 0, 6, 4] got 0.8660683465654125 on validation.\n"
     ]
    },
    {
     "name": "stderr",
     "output_type": "stream",
     "text": [
      "100%|##########| 182/182 [00:15<00:00, 11.79it/s]\n"
     ]
    },
    {
     "name": "stdout",
     "output_type": "stream",
     "text": [
      "Models [11, 5, 10, 0, 6, 4] got 0.8634794615119089 on validation.\n"
     ]
    },
    {
     "name": "stderr",
     "output_type": "stream",
     "text": [
      "100%|##########| 182/182 [00:15<00:00, 11.65it/s]\n"
     ]
    },
    {
     "name": "stdout",
     "output_type": "stream",
     "text": [
      "Models [1, 5, 10, 0, 6, 4] got 0.8669313082499137 on validation.\n"
     ]
    },
    {
     "name": "stderr",
     "output_type": "stream",
     "text": [
      "100%|##########| 182/182 [00:16<00:00, 11.03it/s]\n"
     ]
    },
    {
     "name": "stdout",
     "output_type": "stream",
     "text": [
      "Models [5, 10, 0, 6, 4] got 0.8622713151536072 on validation.\n"
     ]
    },
    {
     "name": "stderr",
     "output_type": "stream",
     "text": [
      "100%|##########| 182/182 [00:15<00:00, 11.77it/s]\n"
     ]
    },
    {
     "name": "stdout",
     "output_type": "stream",
     "text": [
      "Models [1, 10, 0, 6, 4] got 0.8655505695547118 on validation.\n"
     ]
    },
    {
     "name": "stderr",
     "output_type": "stream",
     "text": [
      "100%|##########| 182/182 [00:16<00:00, 11.04it/s]\n"
     ]
    },
    {
     "name": "stdout",
     "output_type": "stream",
     "text": [
      "Models [1, 5, 0, 6, 4] got 0.8665861235761132 on validation.\n"
     ]
    },
    {
     "name": "stderr",
     "output_type": "stream",
     "text": [
      "100%|##########| 182/182 [00:16<00:00, 11.12it/s]\n"
     ]
    },
    {
     "name": "stdout",
     "output_type": "stream",
     "text": [
      "Models [1, 5, 10, 6, 4] got 0.8658957542285123 on validation.\n"
     ]
    },
    {
     "name": "stderr",
     "output_type": "stream",
     "text": [
      "100%|##########| 182/182 [00:17<00:00, 10.44it/s]\n"
     ]
    },
    {
     "name": "stdout",
     "output_type": "stream",
     "text": [
      "Models [1, 5, 10, 0, 4] got 0.8658957542285123 on validation.\n"
     ]
    },
    {
     "name": "stderr",
     "output_type": "stream",
     "text": [
      "100%|##########| 182/182 [00:18<00:00, 10.11it/s]\n"
     ]
    },
    {
     "name": "stdout",
     "output_type": "stream",
     "text": [
      "Models [1, 5, 10, 0, 6] got 0.865723161891612 on validation.\n",
      "VAL INGREDIENTS [1, 5, 10, 0, 6, 4]\n"
     ]
    },
    {
     "name": "stderr",
     "output_type": "stream",
     "text": [
      "100%|##########| 182/182 [00:15<00:00, 12.03it/s]"
     ]
    },
    {
     "name": "stdout",
     "output_type": "stream",
     "text": [
      "Greedy souping accuracy: 0.8669313082499137\n"
     ]
    },
    {
     "name": "stderr",
     "output_type": "stream",
     "text": [
      "\n"
     ]
    }
   ],
   "source": [
    "results_val_df = pd.DataFrame(val_results)\n",
    "\n",
    "val_copy = results_val_df.copy()\n",
    "sorted_val = val_copy.sort_values(by= 'Val Accuracy',ascending=False)\n",
    "sorted_val.to_csv(os.path.join(test_save_path, \"VAL_RESULTS.csv\"), index=False)\n",
    "\n",
    "print(f\"Best model Val Accuracy: {sorted_val.iloc[0]['Val Accuracy']}\")\n",
    "print(f\"Second best model Val Accuracy: {sorted_val.iloc[1]['Val Accuracy']}\")\n",
    "print(f\"Worst model Val Accuracy: {sorted_val.iloc[-1]['Val Accuracy']}\")\n",
    "\n",
    "#UNIFORM\n",
    "print(\"Uniform souping ...\")\n",
    "alphal = [1 / len(state_dicts) for i in range(len(state_dicts))]\n",
    "model = get_model(MODEL, PRETRAINED, num_classes, FREEZE)\n",
    "uniform_model = souping(model, state_dicts, alphal)\n",
    "uniform_model.to(DEVICE)\n",
    "\n",
    "uniform_test_loss, uniform_test_acc  = val_step(uniform_model, test_loader, loss, DEVICE)\n",
    "print(f\"Uniform souping accuracy: {uniform_test_acc}\")\n",
    "\n",
    "#greedy\n",
    "\n",
    "print(\"Greedy souping ...\")\n",
    "model = get_model(MODEL, PRETRAINED, num_classes, FREEZE)\n",
    "\n",
    "val_res = list(results_val_df['Val Accuracy'])\n",
    "greedy_model, best_ingredients = greedy_souping(state_dicts, val_res, test_loader, loss, DEVICE, num_classes)\n",
    "greedy_model.to(DEVICE)\n",
    "print('VAL INGREDIENTS',best_ingredients)\n",
    "greedy_test_loss, greedy_test_acc = val_step(greedy_model, test_loader, loss, DEVICE)\n",
    "\n",
    "print(f\"Greedy souping accuracy: {greedy_test_acc}\")\n",
    "\n",
    "\n",
    "\n",
    "print(\"Greedy souping version 3 ...\")\n",
    "model = get_model(MODEL, PRETRAINED, num_classes, FREEZE)\n",
    "\n",
    "val_res = list(results_val_df['Val Accuracy'])\n",
    "greedy_model, best_ingredients = greedy_souping_3_sorted(state_dicts, val_res, test_loader, loss, DEVICE, num_classes, sorted_val.iloc[0]['Val Accuracy'])\n",
    "greedy_model.to(DEVICE)\n",
    "print('VAL INGREDIENTS',best_ingredients)\n",
    "greedy_test_loss, greedy_test_acc = val_step(greedy_model, test_loader, loss, DEVICE)\n",
    "\n",
    "print(f\"Greedy souping accuracy: {greedy_test_acc}\")\n",
    "\n",
    "\n"
   ]
  },
  {
   "cell_type": "code",
   "execution_count": 18,
   "metadata": {},
   "outputs": [
    {
     "name": "stdout",
     "output_type": "stream",
     "text": [
      "Greedy souping version 2 ...\n"
     ]
    },
    {
     "name": "stderr",
     "output_type": "stream",
     "text": [
      "/home/nuren.zhaksylyk/.conda/envs/CV701_env/lib/python3.8/site-packages/torch/nn/modules/transformer.py:282: UserWarning: enable_nested_tensor is True, but self.use_nested_tensor is False because encoder_layer.self_attn.batch_first was not True(use batch_first for better inference performance)\n",
      "  warnings.warn(f\"enable_nested_tensor is True, but self.use_nested_tensor is False because {why_not_sparsity_fast_path}\")\n"
     ]
    },
    {
     "name": "stdout",
     "output_type": "stream",
     "text": [
      "[4, 6, 0, 5, 10, 11, 9, 8, 7, 1, 2, 3]\n",
      "currentttttttt bestttttttt 0.8626164998274076\n"
     ]
    },
    {
     "name": "stderr",
     "output_type": "stream",
     "text": [
      "100%|##########| 182/182 [00:15<00:00, 11.85it/s]\n"
     ]
    },
    {
     "name": "stdout",
     "output_type": "stream",
     "text": [
      "Models [4, 6] got 0.8631342768381084 on validation.\n"
     ]
    },
    {
     "name": "stderr",
     "output_type": "stream",
     "text": [
      "100%|##########| 182/182 [00:15<00:00, 11.79it/s]\n"
     ]
    },
    {
     "name": "stdout",
     "output_type": "stream",
     "text": [
      "Models [4, 6, 0] got 0.8627890921643079 on validation.\n"
     ]
    },
    {
     "name": "stderr",
     "output_type": "stream",
     "text": [
      "100%|##########| 182/182 [00:16<00:00, 11.32it/s]\n"
     ]
    },
    {
     "name": "stdout",
     "output_type": "stream",
     "text": [
      "Models [4, 6, 5] got 0.8627890921643079 on validation.\n"
     ]
    },
    {
     "name": "stderr",
     "output_type": "stream",
     "text": [
      "100%|##########| 182/182 [00:15<00:00, 11.89it/s]\n"
     ]
    },
    {
     "name": "stdout",
     "output_type": "stream",
     "text": [
      "Models [4, 6, 10] got 0.8643424231964101 on validation.\n"
     ]
    },
    {
     "name": "stderr",
     "output_type": "stream",
     "text": [
      "100%|##########| 182/182 [00:15<00:00, 11.79it/s]\n"
     ]
    },
    {
     "name": "stdout",
     "output_type": "stream",
     "text": [
      "Models [4, 6, 10, 11] got 0.8634794615119089 on validation.\n"
     ]
    },
    {
     "name": "stderr",
     "output_type": "stream",
     "text": [
      "100%|##########| 182/182 [00:15<00:00, 11.80it/s]\n"
     ]
    },
    {
     "name": "stdout",
     "output_type": "stream",
     "text": [
      "Models [4, 6, 10, 9] got 0.8638246461857093 on validation.\n"
     ]
    },
    {
     "name": "stderr",
     "output_type": "stream",
     "text": [
      "100%|##########| 182/182 [00:15<00:00, 11.87it/s]\n"
     ]
    },
    {
     "name": "stdout",
     "output_type": "stream",
     "text": [
      "Models [4, 6, 10, 8] got 0.8638246461857093 on validation.\n"
     ]
    },
    {
     "name": "stderr",
     "output_type": "stream",
     "text": [
      "100%|##########| 182/182 [00:15<00:00, 11.94it/s]\n"
     ]
    },
    {
     "name": "stdout",
     "output_type": "stream",
     "text": [
      "Models [4, 6, 10, 7] got 0.8633068691750087 on validation.\n"
     ]
    },
    {
     "name": "stderr",
     "output_type": "stream",
     "text": [
      "100%|##########| 182/182 [00:15<00:00, 11.84it/s]\n"
     ]
    },
    {
     "name": "stdout",
     "output_type": "stream",
     "text": [
      "Models [4, 6, 10, 1] got 0.8658957542285123 on validation.\n"
     ]
    },
    {
     "name": "stderr",
     "output_type": "stream",
     "text": [
      "100%|##########| 182/182 [00:15<00:00, 11.84it/s]\n"
     ]
    },
    {
     "name": "stdout",
     "output_type": "stream",
     "text": [
      "Models [4, 6, 10, 1, 2] got 0.8629616845012081 on validation.\n"
     ]
    },
    {
     "name": "stderr",
     "output_type": "stream",
     "text": [
      "100%|##########| 182/182 [00:15<00:00, 11.83it/s]\n"
     ]
    },
    {
     "name": "stdout",
     "output_type": "stream",
     "text": [
      "Models [4, 6, 10, 1, 3] got 0.8627890921643079 on validation.\n"
     ]
    },
    {
     "name": "stderr",
     "output_type": "stream",
     "text": [
      "100%|##########| 182/182 [00:15<00:00, 11.89it/s]\n"
     ]
    },
    {
     "name": "stdout",
     "output_type": "stream",
     "text": [
      "Models [4, 6, 10, 1, 0] got 0.8655505695547118 on validation.\n"
     ]
    },
    {
     "name": "stderr",
     "output_type": "stream",
     "text": [
      "100%|##########| 182/182 [00:15<00:00, 11.79it/s]\n"
     ]
    },
    {
     "name": "stdout",
     "output_type": "stream",
     "text": [
      "Models [4, 6, 10, 1, 5] got 0.8658957542285123 on validation.\n"
     ]
    },
    {
     "name": "stderr",
     "output_type": "stream",
     "text": [
      "100%|##########| 182/182 [00:15<00:00, 11.87it/s]\n"
     ]
    },
    {
     "name": "stdout",
     "output_type": "stream",
     "text": [
      "Models [4, 6, 10, 1, 11] got 0.8662409389023127 on validation.\n"
     ]
    },
    {
     "name": "stderr",
     "output_type": "stream",
     "text": [
      "100%|##########| 182/182 [00:15<00:00, 11.89it/s]\n"
     ]
    },
    {
     "name": "stdout",
     "output_type": "stream",
     "text": [
      "Models [4, 6, 10, 1, 11, 9] got 0.8658957542285123 on validation.\n"
     ]
    },
    {
     "name": "stderr",
     "output_type": "stream",
     "text": [
      "100%|##########| 182/182 [00:15<00:00, 11.82it/s]\n"
     ]
    },
    {
     "name": "stdout",
     "output_type": "stream",
     "text": [
      "Models [4, 6, 10, 1, 11, 8] got 0.8662409389023127 on validation.\n"
     ]
    },
    {
     "name": "stderr",
     "output_type": "stream",
     "text": [
      "100%|##########| 182/182 [00:15<00:00, 11.64it/s]\n"
     ]
    },
    {
     "name": "stdout",
     "output_type": "stream",
     "text": [
      "Models [4, 6, 10, 1, 11, 7] got 0.8660683465654125 on validation.\n"
     ]
    },
    {
     "name": "stderr",
     "output_type": "stream",
     "text": [
      "100%|##########| 182/182 [00:15<00:00, 11.80it/s]\n"
     ]
    },
    {
     "name": "stdout",
     "output_type": "stream",
     "text": [
      "Models [4, 6, 10, 1, 11, 2] got 0.8639972385226096 on validation.\n"
     ]
    },
    {
     "name": "stderr",
     "output_type": "stream",
     "text": [
      "100%|##########| 182/182 [00:15<00:00, 11.59it/s]\n"
     ]
    },
    {
     "name": "stdout",
     "output_type": "stream",
     "text": [
      "Models [4, 6, 10, 1, 11, 3] got 0.8641698308595098 on validation.\n"
     ]
    },
    {
     "name": "stderr",
     "output_type": "stream",
     "text": [
      "100%|##########| 182/182 [00:15<00:00, 11.58it/s]\n"
     ]
    },
    {
     "name": "stdout",
     "output_type": "stream",
     "text": [
      "Models [4, 6, 10, 1, 11, 0] got 0.8669313082499137 on validation.\n"
     ]
    },
    {
     "name": "stderr",
     "output_type": "stream",
     "text": [
      "100%|##########| 182/182 [00:15<00:00, 11.83it/s]\n"
     ]
    },
    {
     "name": "stdout",
     "output_type": "stream",
     "text": [
      "Models [4, 6, 10, 1, 11, 0, 5] got 0.8660683465654125 on validation.\n"
     ]
    },
    {
     "name": "stderr",
     "output_type": "stream",
     "text": [
      "100%|##########| 182/182 [00:15<00:00, 11.94it/s]\n"
     ]
    },
    {
     "name": "stdout",
     "output_type": "stream",
     "text": [
      "Models [4, 6, 10, 1, 11, 0, 9] got 0.865723161891612 on validation.\n"
     ]
    },
    {
     "name": "stderr",
     "output_type": "stream",
     "text": [
      "100%|##########| 182/182 [00:15<00:00, 11.63it/s]\n"
     ]
    },
    {
     "name": "stdout",
     "output_type": "stream",
     "text": [
      "Models [4, 6, 10, 1, 11, 0, 8] got 0.8660683465654125 on validation.\n"
     ]
    },
    {
     "name": "stderr",
     "output_type": "stream",
     "text": [
      "100%|##########| 182/182 [00:15<00:00, 11.70it/s]\n"
     ]
    },
    {
     "name": "stdout",
     "output_type": "stream",
     "text": [
      "Models [4, 6, 10, 1, 11, 0, 7] got 0.8665861235761132 on validation.\n"
     ]
    },
    {
     "name": "stderr",
     "output_type": "stream",
     "text": [
      "100%|##########| 182/182 [00:15<00:00, 11.78it/s]\n"
     ]
    },
    {
     "name": "stdout",
     "output_type": "stream",
     "text": [
      "Models [4, 6, 10, 1, 11, 0, 2] got 0.8653779772178115 on validation.\n"
     ]
    },
    {
     "name": "stderr",
     "output_type": "stream",
     "text": [
      "100%|##########| 182/182 [00:15<00:00, 11.83it/s]\n"
     ]
    },
    {
     "name": "stdout",
     "output_type": "stream",
     "text": [
      "Models [4, 6, 10, 1, 11, 0, 3] got 0.8636520538488092 on validation.\n"
     ]
    },
    {
     "name": "stderr",
     "output_type": "stream",
     "text": [
      "100%|##########| 182/182 [00:15<00:00, 11.70it/s]\n"
     ]
    },
    {
     "name": "stdout",
     "output_type": "stream",
     "text": [
      "Models [4, 6, 10, 1, 11, 0, 5] got 0.8660683465654125 on validation.\n"
     ]
    },
    {
     "name": "stderr",
     "output_type": "stream",
     "text": [
      "100%|##########| 182/182 [00:15<00:00, 11.92it/s]\n"
     ]
    },
    {
     "name": "stdout",
     "output_type": "stream",
     "text": [
      "Models [4, 6, 10, 1, 11, 0, 9] got 0.865723161891612 on validation.\n"
     ]
    },
    {
     "name": "stderr",
     "output_type": "stream",
     "text": [
      "100%|##########| 182/182 [00:15<00:00, 11.77it/s]\n"
     ]
    },
    {
     "name": "stdout",
     "output_type": "stream",
     "text": [
      "Models [4, 6, 10, 1, 11, 0, 8] got 0.8660683465654125 on validation.\n"
     ]
    },
    {
     "name": "stderr",
     "output_type": "stream",
     "text": [
      "100%|##########| 182/182 [00:15<00:00, 11.95it/s]\n"
     ]
    },
    {
     "name": "stdout",
     "output_type": "stream",
     "text": [
      "Models [4, 6, 10, 1, 11, 0, 7] got 0.8665861235761132 on validation.\n"
     ]
    },
    {
     "name": "stderr",
     "output_type": "stream",
     "text": [
      "100%|##########| 182/182 [00:15<00:00, 11.87it/s]\n"
     ]
    },
    {
     "name": "stdout",
     "output_type": "stream",
     "text": [
      "Models [4, 6, 10, 1, 11, 0, 2] got 0.8653779772178115 on validation.\n"
     ]
    },
    {
     "name": "stderr",
     "output_type": "stream",
     "text": [
      "100%|##########| 182/182 [00:15<00:00, 11.85it/s]\n"
     ]
    },
    {
     "name": "stdout",
     "output_type": "stream",
     "text": [
      "Models [4, 6, 10, 1, 11, 0, 3] got 0.8636520538488092 on validation.\n",
      "VAL INGREDIENTS [4, 6, 10, 1, 11, 0]\n"
     ]
    },
    {
     "name": "stderr",
     "output_type": "stream",
     "text": [
      "100%|##########| 182/182 [00:15<00:00, 11.80it/s]\n"
     ]
    },
    {
     "name": "stdout",
     "output_type": "stream",
     "text": [
      "Greedy souping accuracy: 0.8669313082499137\n"
     ]
    }
   ],
   "source": [
    "print(\"Greedy souping version 2 ...\")\n",
    "model = get_model(MODEL, PRETRAINED, num_classes, FREEZE)\n",
    "\n",
    "val_res = list(results_val_df['Val Accuracy'])\n",
    "greedy_model, best_ingredients = greedy_souping_2(state_dicts, val_res, test_loader, loss, DEVICE, num_classes)\n",
    "greedy_model.to(DEVICE)\n",
    "print('VAL INGREDIENTS',best_ingredients)\n",
    "greedy_test_loss, greedy_test_acc = val_step(greedy_model, test_loader, loss, DEVICE)\n",
    "\n",
    "print(f\"Greedy souping accuracy: {greedy_test_acc}\")"
   ]
  },
  {
   "cell_type": "markdown",
   "metadata": {},
   "source": [
    "# ***ConvNeXtBase --- CUB and FGVC-Aircraft***"
   ]
  },
  {
   "cell_type": "code",
   "execution_count": 14,
   "metadata": {},
   "outputs": [
    {
     "name": "stdout",
     "output_type": "stream",
     "text": [
      "Best model Val Accuracy: 0.8879149775391695\n",
      "Second best model Val Accuracy: 0.8869288922975787\n",
      "Worst model Val Accuracy: 0.5117782403856689\n",
      "Uniform souping ...\n"
     ]
    },
    {
     "name": "stderr",
     "output_type": "stream",
     "text": [
      "100%|##########| 286/286 [00:42<00:00,  6.74it/s]\n"
     ]
    },
    {
     "name": "stdout",
     "output_type": "stream",
     "text": [
      "Uniform souping accuracy: 0.8866001972170483\n",
      "Greedy souping ...\n",
      "[5, 4, 6, 7, 9, 8, 0, 11, 10, 1, 2, 3]\n",
      "currentttttttt bestttttttt 0.8879149775391695\n"
     ]
    },
    {
     "name": "stderr",
     "output_type": "stream",
     "text": [
      "100%|##########| 286/286 [00:43<00:00,  6.52it/s]\n"
     ]
    },
    {
     "name": "stdout",
     "output_type": "stream",
     "text": [
      "Models [5, 4] got 0.8871480223512654 on validation.\n"
     ]
    },
    {
     "name": "stderr",
     "output_type": "stream",
     "text": [
      "100%|##########| 286/286 [00:48<00:00,  5.89it/s]\n"
     ]
    },
    {
     "name": "stdout",
     "output_type": "stream",
     "text": [
      "Models [5, 6] got 0.8879149775391695 on validation.\n"
     ]
    },
    {
     "name": "stderr",
     "output_type": "stream",
     "text": [
      "100%|##########| 286/286 [00:43<00:00,  6.50it/s]\n"
     ]
    },
    {
     "name": "stdout",
     "output_type": "stream",
     "text": [
      "Models [5, 7] got 0.8883532376465432 on validation.\n"
     ]
    },
    {
     "name": "stderr",
     "output_type": "stream",
     "text": [
      "100%|##########| 286/286 [00:44<00:00,  6.45it/s]\n"
     ]
    },
    {
     "name": "stdout",
     "output_type": "stream",
     "text": [
      "Models [5, 7, 9] got 0.8875862824586392 on validation.\n"
     ]
    },
    {
     "name": "stderr",
     "output_type": "stream",
     "text": [
      "100%|##########| 286/286 [00:42<00:00,  6.76it/s]\n"
     ]
    },
    {
     "name": "stdout",
     "output_type": "stream",
     "text": [
      "Models [5, 7, 8] got 0.887038457324422 on validation.\n"
     ]
    },
    {
     "name": "stderr",
     "output_type": "stream",
     "text": [
      "100%|##########| 286/286 [00:43<00:00,  6.52it/s]\n"
     ]
    },
    {
     "name": "stdout",
     "output_type": "stream",
     "text": [
      "Models [5, 7, 0] got 0.888791497753917 on validation.\n"
     ]
    },
    {
     "name": "stderr",
     "output_type": "stream",
     "text": [
      "100%|##########| 286/286 [00:45<00:00,  6.26it/s]\n"
     ]
    },
    {
     "name": "stdout",
     "output_type": "stream",
     "text": [
      "Models [5, 7, 0, 11] got 0.8885723677002301 on validation.\n"
     ]
    },
    {
     "name": "stderr",
     "output_type": "stream",
     "text": [
      "100%|##########| 286/286 [00:45<00:00,  6.35it/s]\n"
     ]
    },
    {
     "name": "stdout",
     "output_type": "stream",
     "text": [
      "Models [5, 7, 0, 10] got 0.8886819327270735 on validation.\n"
     ]
    },
    {
     "name": "stderr",
     "output_type": "stream",
     "text": [
      "100%|##########| 286/286 [00:43<00:00,  6.62it/s]\n"
     ]
    },
    {
     "name": "stdout",
     "output_type": "stream",
     "text": [
      "Models [5, 7, 0, 1] got 0.8901062780760381 on validation.\n"
     ]
    },
    {
     "name": "stderr",
     "output_type": "stream",
     "text": [
      "100%|##########| 286/286 [00:46<00:00,  6.15it/s]\n"
     ]
    },
    {
     "name": "stdout",
     "output_type": "stream",
     "text": [
      "Models [5, 7, 0, 1, 2] got 0.8857236770023008 on validation.\n"
     ]
    },
    {
     "name": "stderr",
     "output_type": "stream",
     "text": [
      "100%|##########| 286/286 [00:43<00:00,  6.60it/s]\n"
     ]
    },
    {
     "name": "stdout",
     "output_type": "stream",
     "text": [
      "Models [5, 7, 0, 1, 3] got 0.8830941163580585 on validation.\n",
      "VAL INGREDIENTS [5, 7, 0, 1]\n"
     ]
    },
    {
     "name": "stderr",
     "output_type": "stream",
     "text": [
      "100%|##########| 286/286 [00:45<00:00,  6.28it/s]\n"
     ]
    },
    {
     "name": "stdout",
     "output_type": "stream",
     "text": [
      "Greedy souping accuracy: 0.8901062780760381\n",
      "Greedy souping version 2 ...\n",
      "[5, 4, 6, 7, 9, 8, 0, 11, 10, 1, 2, 3]\n",
      "currentttttttt bestttttttt 0.8879149775391695\n"
     ]
    },
    {
     "name": "stderr",
     "output_type": "stream",
     "text": [
      "100%|##########| 286/286 [00:46<00:00,  6.17it/s]\n"
     ]
    },
    {
     "name": "stdout",
     "output_type": "stream",
     "text": [
      "Models [5, 4] got 0.8871480223512654 on validation.\n"
     ]
    },
    {
     "name": "stderr",
     "output_type": "stream",
     "text": [
      "100%|##########| 286/286 [00:43<00:00,  6.58it/s]\n"
     ]
    },
    {
     "name": "stdout",
     "output_type": "stream",
     "text": [
      "Models [5, 6] got 0.8879149775391695 on validation.\n"
     ]
    },
    {
     "name": "stderr",
     "output_type": "stream",
     "text": [
      "100%|##########| 286/286 [00:44<00:00,  6.42it/s]\n"
     ]
    },
    {
     "name": "stdout",
     "output_type": "stream",
     "text": [
      "Models [5, 7] got 0.8883532376465432 on validation.\n"
     ]
    },
    {
     "name": "stderr",
     "output_type": "stream",
     "text": [
      "100%|##########| 286/286 [00:44<00:00,  6.46it/s]\n"
     ]
    },
    {
     "name": "stdout",
     "output_type": "stream",
     "text": [
      "Models [5, 7, 9] got 0.8875862824586392 on validation.\n"
     ]
    },
    {
     "name": "stderr",
     "output_type": "stream",
     "text": [
      "100%|##########| 286/286 [00:44<00:00,  6.39it/s]\n"
     ]
    },
    {
     "name": "stdout",
     "output_type": "stream",
     "text": [
      "Models [5, 7, 8] got 0.887038457324422 on validation.\n"
     ]
    },
    {
     "name": "stderr",
     "output_type": "stream",
     "text": [
      "100%|##########| 286/286 [00:48<00:00,  5.92it/s]\n"
     ]
    },
    {
     "name": "stdout",
     "output_type": "stream",
     "text": [
      "Models [5, 7, 0] got 0.888791497753917 on validation.\n"
     ]
    },
    {
     "name": "stderr",
     "output_type": "stream",
     "text": [
      "100%|##########| 286/286 [00:47<00:00,  5.99it/s]\n"
     ]
    },
    {
     "name": "stdout",
     "output_type": "stream",
     "text": [
      "Models [5, 7, 0, 11] got 0.8885723677002301 on validation.\n"
     ]
    },
    {
     "name": "stderr",
     "output_type": "stream",
     "text": [
      "100%|##########| 286/286 [00:44<00:00,  6.47it/s]\n"
     ]
    },
    {
     "name": "stdout",
     "output_type": "stream",
     "text": [
      "Models [5, 7, 0, 10] got 0.8886819327270735 on validation.\n"
     ]
    },
    {
     "name": "stderr",
     "output_type": "stream",
     "text": [
      "100%|##########| 286/286 [00:43<00:00,  6.57it/s]\n"
     ]
    },
    {
     "name": "stdout",
     "output_type": "stream",
     "text": [
      "Models [5, 7, 0, 1] got 0.8901062780760381 on validation.\n"
     ]
    },
    {
     "name": "stderr",
     "output_type": "stream",
     "text": [
      "100%|##########| 286/286 [00:44<00:00,  6.41it/s]\n"
     ]
    },
    {
     "name": "stdout",
     "output_type": "stream",
     "text": [
      "Models [5, 7, 0, 1, 2] got 0.8857236770023008 on validation.\n"
     ]
    },
    {
     "name": "stderr",
     "output_type": "stream",
     "text": [
      "100%|##########| 286/286 [00:45<00:00,  6.34it/s]\n"
     ]
    },
    {
     "name": "stdout",
     "output_type": "stream",
     "text": [
      "Models [5, 7, 0, 1, 3] got 0.8830941163580585 on validation.\n"
     ]
    },
    {
     "name": "stderr",
     "output_type": "stream",
     "text": [
      "100%|##########| 286/286 [00:45<00:00,  6.33it/s]\n"
     ]
    },
    {
     "name": "stdout",
     "output_type": "stream",
     "text": [
      "Models [5, 7, 0, 1, 4] got 0.8892297578612907 on validation.\n"
     ]
    },
    {
     "name": "stderr",
     "output_type": "stream",
     "text": [
      "100%|##########| 286/286 [00:45<00:00,  6.22it/s]\n"
     ]
    },
    {
     "name": "stdout",
     "output_type": "stream",
     "text": [
      "Models [5, 7, 0, 1, 6] got 0.8905445381834118 on validation.\n"
     ]
    },
    {
     "name": "stderr",
     "output_type": "stream",
     "text": [
      "100%|##########| 286/286 [00:43<00:00,  6.61it/s]\n"
     ]
    },
    {
     "name": "stdout",
     "output_type": "stream",
     "text": [
      "Models [5, 7, 0, 1, 6, 9] got 0.8899967130491947 on validation.\n"
     ]
    },
    {
     "name": "stderr",
     "output_type": "stream",
     "text": [
      "100%|##########| 286/286 [00:45<00:00,  6.29it/s]\n"
     ]
    },
    {
     "name": "stdout",
     "output_type": "stream",
     "text": [
      "Models [5, 7, 0, 1, 6, 8] got 0.8901062780760381 on validation.\n"
     ]
    },
    {
     "name": "stderr",
     "output_type": "stream",
     "text": [
      "100%|##########| 286/286 [00:42<00:00,  6.74it/s]\n"
     ]
    },
    {
     "name": "stdout",
     "output_type": "stream",
     "text": [
      "Models [5, 7, 0, 1, 6, 11] got 0.8899967130491947 on validation.\n"
     ]
    },
    {
     "name": "stderr",
     "output_type": "stream",
     "text": [
      "100%|##########| 286/286 [00:42<00:00,  6.75it/s]\n"
     ]
    },
    {
     "name": "stdout",
     "output_type": "stream",
     "text": [
      "Models [5, 7, 0, 1, 6, 10] got 0.8898871480223512 on validation.\n"
     ]
    },
    {
     "name": "stderr",
     "output_type": "stream",
     "text": [
      "100%|##########| 286/286 [00:43<00:00,  6.65it/s]\n"
     ]
    },
    {
     "name": "stdout",
     "output_type": "stream",
     "text": [
      "Models [5, 7, 0, 1, 6, 2] got 0.8860523720828312 on validation.\n"
     ]
    },
    {
     "name": "stderr",
     "output_type": "stream",
     "text": [
      "100%|##########| 286/286 [00:46<00:00,  6.21it/s]\n"
     ]
    },
    {
     "name": "stdout",
     "output_type": "stream",
     "text": [
      "Models [5, 7, 0, 1, 6, 3] got 0.8856141119754575 on validation.\n"
     ]
    },
    {
     "name": "stderr",
     "output_type": "stream",
     "text": [
      "100%|##########| 286/286 [00:46<00:00,  6.12it/s]\n"
     ]
    },
    {
     "name": "stdout",
     "output_type": "stream",
     "text": [
      "Models [5, 7, 0, 1, 6, 4] got 0.8904349731565684 on validation.\n"
     ]
    },
    {
     "name": "stderr",
     "output_type": "stream",
     "text": [
      "100%|##########| 286/286 [00:42<00:00,  6.69it/s]\n"
     ]
    },
    {
     "name": "stdout",
     "output_type": "stream",
     "text": [
      "Models [5, 7, 0, 1, 6, 9] got 0.8899967130491947 on validation.\n"
     ]
    },
    {
     "name": "stderr",
     "output_type": "stream",
     "text": [
      "100%|##########| 286/286 [00:46<00:00,  6.18it/s]\n"
     ]
    },
    {
     "name": "stdout",
     "output_type": "stream",
     "text": [
      "Models [5, 7, 0, 1, 6, 8] got 0.8901062780760381 on validation.\n"
     ]
    },
    {
     "name": "stderr",
     "output_type": "stream",
     "text": [
      "100%|##########| 286/286 [00:43<00:00,  6.52it/s]\n"
     ]
    },
    {
     "name": "stdout",
     "output_type": "stream",
     "text": [
      "Models [5, 7, 0, 1, 6, 11] got 0.8899967130491947 on validation.\n"
     ]
    },
    {
     "name": "stderr",
     "output_type": "stream",
     "text": [
      "100%|##########| 286/286 [00:42<00:00,  6.73it/s]\n"
     ]
    },
    {
     "name": "stdout",
     "output_type": "stream",
     "text": [
      "Models [5, 7, 0, 1, 6, 10] got 0.8898871480223512 on validation.\n"
     ]
    },
    {
     "name": "stderr",
     "output_type": "stream",
     "text": [
      "100%|##########| 286/286 [00:44<00:00,  6.43it/s]\n"
     ]
    },
    {
     "name": "stdout",
     "output_type": "stream",
     "text": [
      "Models [5, 7, 0, 1, 6, 2] got 0.8860523720828312 on validation.\n"
     ]
    },
    {
     "name": "stderr",
     "output_type": "stream",
     "text": [
      "100%|##########| 286/286 [00:48<00:00,  5.96it/s]\n"
     ]
    },
    {
     "name": "stdout",
     "output_type": "stream",
     "text": [
      "Models [5, 7, 0, 1, 6, 3] got 0.8856141119754575 on validation.\n",
      "VAL INGREDIENTS [5, 7, 0, 1, 6]\n"
     ]
    },
    {
     "name": "stderr",
     "output_type": "stream",
     "text": [
      "100%|##########| 286/286 [00:44<00:00,  6.50it/s]\n"
     ]
    },
    {
     "name": "stdout",
     "output_type": "stream",
     "text": [
      "Greedy souping accuracy: 0.8905445381834118\n",
      "Greedy souping version 3 ...\n",
      "[3, 2, 1, 10, 11, 0, 8, 9, 7, 6, 4, 5]\n",
      "currentttttttt bestttttttt 0.8879149775391695\n"
     ]
    },
    {
     "name": "stderr",
     "output_type": "stream",
     "text": [
      "100%|##########| 286/286 [00:45<00:00,  6.24it/s]\n"
     ]
    },
    {
     "name": "stdout",
     "output_type": "stream",
     "text": [
      "Models [3, 2, 1, 10, 11, 0, 8, 9, 7, 6, 4, 5] got 0.8866001972170483 on validation.\n"
     ]
    },
    {
     "name": "stderr",
     "output_type": "stream",
     "text": [
      "100%|##########| 286/286 [00:45<00:00,  6.31it/s]\n"
     ]
    },
    {
     "name": "stdout",
     "output_type": "stream",
     "text": [
      "Models [3, 1, 10, 11, 0, 8, 9, 7, 6, 4, 5] got 0.8866001972170483 on validation.\n"
     ]
    },
    {
     "name": "stderr",
     "output_type": "stream",
     "text": [
      "100%|##########| 286/286 [00:45<00:00,  6.33it/s]\n"
     ]
    },
    {
     "name": "stdout",
     "output_type": "stream",
     "text": [
      "Models [3, 2, 10, 11, 0, 8, 9, 7, 6, 4, 5] got 0.8856141119754575 on validation.\n"
     ]
    },
    {
     "name": "stderr",
     "output_type": "stream",
     "text": [
      "100%|##########| 286/286 [00:42<00:00,  6.71it/s]\n"
     ]
    },
    {
     "name": "stdout",
     "output_type": "stream",
     "text": [
      "Models [3, 2, 1, 11, 0, 8, 9, 7, 6, 4, 5] got 0.8868193272707352 on validation.\n"
     ]
    },
    {
     "name": "stderr",
     "output_type": "stream",
     "text": [
      "100%|##########| 286/286 [00:43<00:00,  6.55it/s]\n"
     ]
    },
    {
     "name": "stdout",
     "output_type": "stream",
     "text": [
      "Models [3, 2, 1, 10, 0, 8, 9, 7, 6, 4, 5] got 0.8869288922975787 on validation.\n"
     ]
    },
    {
     "name": "stderr",
     "output_type": "stream",
     "text": [
      "100%|##########| 286/286 [00:44<00:00,  6.39it/s]\n"
     ]
    },
    {
     "name": "stdout",
     "output_type": "stream",
     "text": [
      "Models [3, 2, 1, 10, 11, 8, 9, 7, 6, 4, 5] got 0.8863810671633614 on validation.\n"
     ]
    },
    {
     "name": "stderr",
     "output_type": "stream",
     "text": [
      "100%|##########| 286/286 [00:43<00:00,  6.62it/s]\n"
     ]
    },
    {
     "name": "stdout",
     "output_type": "stream",
     "text": [
      "Models [3, 2, 1, 10, 11, 0, 9, 7, 6, 4, 5] got 0.8868193272707352 on validation.\n"
     ]
    },
    {
     "name": "stderr",
     "output_type": "stream",
     "text": [
      "100%|##########| 286/286 [00:43<00:00,  6.51it/s]\n"
     ]
    },
    {
     "name": "stdout",
     "output_type": "stream",
     "text": [
      "Models [3, 2, 1, 10, 11, 0, 8, 7, 6, 4, 5] got 0.887038457324422 on validation.\n"
     ]
    },
    {
     "name": "stderr",
     "output_type": "stream",
     "text": [
      "100%|##########| 286/286 [00:42<00:00,  6.76it/s]\n"
     ]
    },
    {
     "name": "stdout",
     "output_type": "stream",
     "text": [
      "Models [3, 2, 1, 10, 11, 0, 8, 9, 6, 4, 5] got 0.8861619371096746 on validation.\n"
     ]
    },
    {
     "name": "stderr",
     "output_type": "stream",
     "text": [
      "100%|##########| 286/286 [00:45<00:00,  6.34it/s]\n"
     ]
    },
    {
     "name": "stdout",
     "output_type": "stream",
     "text": [
      "Models [3, 2, 1, 10, 11, 0, 8, 9, 7, 4, 5] got 0.8862715021365181 on validation.\n"
     ]
    },
    {
     "name": "stderr",
     "output_type": "stream",
     "text": [
      "100%|##########| 286/286 [00:49<00:00,  5.80it/s]\n"
     ]
    },
    {
     "name": "stdout",
     "output_type": "stream",
     "text": [
      "Models [3, 2, 1, 10, 11, 0, 8, 9, 7, 6, 5] got 0.8869288922975787 on validation.\n"
     ]
    },
    {
     "name": "stderr",
     "output_type": "stream",
     "text": [
      "100%|##########| 286/286 [00:44<00:00,  6.48it/s]\n"
     ]
    },
    {
     "name": "stdout",
     "output_type": "stream",
     "text": [
      "Models [3, 2, 1, 10, 11, 0, 8, 9, 7, 6, 4] got 0.8868193272707352 on validation.\n",
      "VAL INGREDIENTS [3, 2, 1, 10, 11, 0, 8, 9, 7, 6, 4, 5]\n"
     ]
    },
    {
     "name": "stderr",
     "output_type": "stream",
     "text": [
      "100%|##########| 286/286 [00:47<00:00,  5.96it/s]"
     ]
    },
    {
     "name": "stdout",
     "output_type": "stream",
     "text": [
      "Greedy souping accuracy: 0.8866001972170483\n"
     ]
    },
    {
     "name": "stderr",
     "output_type": "stream",
     "text": [
      "\n"
     ]
    }
   ],
   "source": [
    "results_val_df = pd.DataFrame(val_results)\n",
    "\n",
    "val_copy = results_val_df.copy()\n",
    "sorted_val = val_copy.sort_values(by= 'Val Accuracy',ascending=False)\n",
    "sorted_val.to_csv(os.path.join(test_save_path, \"VAL_RESULTS.csv\"), index=False)\n",
    "\n",
    "print(f\"Best model Val Accuracy: {sorted_val.iloc[0]['Val Accuracy']}\")\n",
    "print(f\"Second best model Val Accuracy: {sorted_val.iloc[1]['Val Accuracy']}\")\n",
    "print(f\"Worst model Val Accuracy: {sorted_val.iloc[-1]['Val Accuracy']}\")\n",
    "\n",
    "#UNIFORM\n",
    "print(\"Uniform souping ...\")\n",
    "alphal = [1 / len(state_dicts) for i in range(len(state_dicts))]\n",
    "model = get_model(MODEL, PRETRAINED, num_classes, FREEZE)\n",
    "uniform_model = souping(model, state_dicts, alphal)\n",
    "uniform_model.to(DEVICE)\n",
    "\n",
    "uniform_test_loss, uniform_test_acc  = val_step(uniform_model, test_loader, loss, DEVICE)\n",
    "print(f\"Uniform souping accuracy: {uniform_test_acc}\")\n",
    "\n",
    "#greedy\n",
    "\n",
    "print(\"Greedy souping ...\")\n",
    "model = get_model(MODEL, PRETRAINED, num_classes, FREEZE)\n",
    "\n",
    "val_res = list(results_val_df['Val Accuracy'])\n",
    "greedy_model, best_ingredients = greedy_souping(state_dicts, val_res, test_loader, loss, DEVICE, num_classes)\n",
    "greedy_model.to(DEVICE)\n",
    "print('VAL INGREDIENTS',best_ingredients)\n",
    "greedy_test_loss, greedy_test_acc = val_step(greedy_model, test_loader, loss, DEVICE)\n",
    "\n",
    "print(f\"Greedy souping accuracy: {greedy_test_acc}\")\n",
    "\n",
    "\n",
    "print(\"Greedy souping version 2 ...\")\n",
    "model = get_model(MODEL, PRETRAINED, num_classes, FREEZE)\n",
    "\n",
    "val_res = list(results_val_df['Val Accuracy'])\n",
    "greedy_model, best_ingredients = greedy_souping_2(state_dicts, val_res, test_loader, loss, DEVICE, num_classes)\n",
    "greedy_model.to(DEVICE)\n",
    "print('VAL INGREDIENTS',best_ingredients)\n",
    "greedy_test_loss, greedy_test_acc = val_step(greedy_model, test_loader, loss, DEVICE)\n",
    "\n",
    "print(f\"Greedy souping accuracy: {greedy_test_acc}\")\n",
    "\n",
    "\n",
    "print(\"Greedy souping version 3 ...\")\n",
    "model = get_model(MODEL, PRETRAINED, num_classes, FREEZE)\n",
    "\n",
    "val_res = list(results_val_df['Val Accuracy'])\n",
    "greedy_model, best_ingredients = greedy_souping_3_sorted(state_dicts, val_res, test_loader, loss, DEVICE, num_classes, sorted_val.iloc[0]['Val Accuracy'])\n",
    "greedy_model.to(DEVICE)\n",
    "print('VAL INGREDIENTS',best_ingredients)\n",
    "greedy_test_loss, greedy_test_acc = val_step(greedy_model, test_loader, loss, DEVICE)\n",
    "\n",
    "print(f\"Greedy souping accuracy: {greedy_test_acc}\")\n",
    "\n"
   ]
  },
  {
   "cell_type": "markdown",
   "metadata": {},
   "source": [
    "# ***ConvNeXtTiny --- CUB and FGVC-Aircraft***"
   ]
  },
  {
   "cell_type": "code",
   "execution_count": 12,
   "metadata": {},
   "outputs": [
    {
     "name": "stdout",
     "output_type": "stream",
     "text": [
      "Best model Val Accuracy: 0.8690697929220993\n",
      "Second best model Val Accuracy: 0.8686315328147255\n",
      "Worst model Val Accuracy: 0.5707242248274351\n",
      "Uniform souping ...\n"
     ]
    },
    {
     "name": "stderr",
     "output_type": "stream",
     "text": [
      "100%|##########| 286/286 [00:44<00:00,  6.44it/s]\n"
     ]
    },
    {
     "name": "stdout",
     "output_type": "stream",
     "text": [
      "Uniform souping accuracy: 0.87356195902268\n",
      "Greedy souping ...\n",
      "[9, 7, 4, 5, 11, 8, 10, 0, 6, 1, 2, 3]\n",
      "currentttttttt bestttttttt 0.8690697929220993\n"
     ]
    },
    {
     "name": "stderr",
     "output_type": "stream",
     "text": [
      "100%|##########| 286/286 [00:44<00:00,  6.45it/s]\n"
     ]
    },
    {
     "name": "stdout",
     "output_type": "stream",
     "text": [
      "Models [9, 7] got 0.8710419634052811 on validation.\n"
     ]
    },
    {
     "name": "stderr",
     "output_type": "stream",
     "text": [
      "100%|##########| 286/286 [00:45<00:00,  6.33it/s]\n"
     ]
    },
    {
     "name": "stdout",
     "output_type": "stream",
     "text": [
      "Models [9, 7, 4] got 0.8699463131368467 on validation.\n"
     ]
    },
    {
     "name": "stderr",
     "output_type": "stream",
     "text": [
      "100%|##########| 286/286 [00:45<00:00,  6.35it/s]\n"
     ]
    },
    {
     "name": "stdout",
     "output_type": "stream",
     "text": [
      "Models [9, 7, 5] got 0.8710419634052811 on validation.\n"
     ]
    },
    {
     "name": "stderr",
     "output_type": "stream",
     "text": [
      "100%|##########| 286/286 [00:44<00:00,  6.49it/s]\n"
     ]
    },
    {
     "name": "stdout",
     "output_type": "stream",
     "text": [
      "Models [9, 7, 11] got 0.8697271830831599 on validation.\n"
     ]
    },
    {
     "name": "stderr",
     "output_type": "stream",
     "text": [
      "100%|##########| 286/286 [00:46<00:00,  6.20it/s]\n"
     ]
    },
    {
     "name": "stdout",
     "output_type": "stream",
     "text": [
      "Models [9, 7, 8] got 0.8685219677878822 on validation.\n"
     ]
    },
    {
     "name": "stderr",
     "output_type": "stream",
     "text": [
      "100%|##########| 286/286 [00:45<00:00,  6.28it/s]\n"
     ]
    },
    {
     "name": "stdout",
     "output_type": "stream",
     "text": [
      "Models [9, 7, 10] got 0.8698367481100033 on validation.\n"
     ]
    },
    {
     "name": "stderr",
     "output_type": "stream",
     "text": [
      "100%|##########| 286/286 [00:46<00:00,  6.17it/s]\n"
     ]
    },
    {
     "name": "stdout",
     "output_type": "stream",
     "text": [
      "Models [9, 7, 0] got 0.8708228333515942 on validation.\n"
     ]
    },
    {
     "name": "stderr",
     "output_type": "stream",
     "text": [
      "100%|##########| 286/286 [00:46<00:00,  6.14it/s]\n"
     ]
    },
    {
     "name": "stdout",
     "output_type": "stream",
     "text": [
      "Models [9, 7, 6] got 0.8713706584858113 on validation.\n"
     ]
    },
    {
     "name": "stderr",
     "output_type": "stream",
     "text": [
      "100%|##########| 286/286 [00:44<00:00,  6.40it/s]\n"
     ]
    },
    {
     "name": "stdout",
     "output_type": "stream",
     "text": [
      "Models [9, 7, 6, 1] got 0.8738906541032102 on validation.\n"
     ]
    },
    {
     "name": "stderr",
     "output_type": "stream",
     "text": [
      "100%|##########| 286/286 [00:45<00:00,  6.23it/s]\n"
     ]
    },
    {
     "name": "stdout",
     "output_type": "stream",
     "text": [
      "Models [9, 7, 6, 1, 2] got 0.874328914210584 on validation.\n"
     ]
    },
    {
     "name": "stderr",
     "output_type": "stream",
     "text": [
      "100%|##########| 286/286 [00:47<00:00,  6.06it/s]\n"
     ]
    },
    {
     "name": "stdout",
     "output_type": "stream",
     "text": [
      "Models [9, 7, 6, 1, 2, 3] got 0.8675358825462912 on validation.\n",
      "VAL INGREDIENTS [9, 7, 6, 1, 2]\n"
     ]
    },
    {
     "name": "stderr",
     "output_type": "stream",
     "text": [
      "100%|##########| 286/286 [00:46<00:00,  6.09it/s]\n"
     ]
    },
    {
     "name": "stdout",
     "output_type": "stream",
     "text": [
      "Greedy souping accuracy: 0.874328914210584\n",
      "Greedy souping version 2 ...\n",
      "[9, 7, 4, 5, 11, 8, 10, 0, 6, 1, 2, 3]\n",
      "currentttttttt bestttttttt 0.8690697929220993\n"
     ]
    },
    {
     "name": "stderr",
     "output_type": "stream",
     "text": [
      "100%|##########| 286/286 [00:49<00:00,  5.75it/s]\n"
     ]
    },
    {
     "name": "stdout",
     "output_type": "stream",
     "text": [
      "Models [9, 7] got 0.8710419634052811 on validation.\n"
     ]
    },
    {
     "name": "stderr",
     "output_type": "stream",
     "text": [
      "100%|##########| 286/286 [00:47<00:00,  6.01it/s]\n"
     ]
    },
    {
     "name": "stdout",
     "output_type": "stream",
     "text": [
      "Models [9, 7, 4] got 0.8699463131368467 on validation.\n"
     ]
    },
    {
     "name": "stderr",
     "output_type": "stream",
     "text": [
      "100%|##########| 286/286 [00:46<00:00,  6.11it/s]\n"
     ]
    },
    {
     "name": "stdout",
     "output_type": "stream",
     "text": [
      "Models [9, 7, 5] got 0.8710419634052811 on validation.\n"
     ]
    },
    {
     "name": "stderr",
     "output_type": "stream",
     "text": [
      "100%|##########| 286/286 [00:47<00:00,  6.05it/s]\n"
     ]
    },
    {
     "name": "stdout",
     "output_type": "stream",
     "text": [
      "Models [9, 7, 11] got 0.8697271830831599 on validation.\n"
     ]
    },
    {
     "name": "stderr",
     "output_type": "stream",
     "text": [
      "100%|##########| 286/286 [00:47<00:00,  6.05it/s]\n"
     ]
    },
    {
     "name": "stdout",
     "output_type": "stream",
     "text": [
      "Models [9, 7, 8] got 0.8685219677878822 on validation.\n"
     ]
    },
    {
     "name": "stderr",
     "output_type": "stream",
     "text": [
      "100%|##########| 286/286 [00:46<00:00,  6.20it/s]\n"
     ]
    },
    {
     "name": "stdout",
     "output_type": "stream",
     "text": [
      "Models [9, 7, 10] got 0.8698367481100033 on validation.\n"
     ]
    },
    {
     "name": "stderr",
     "output_type": "stream",
     "text": [
      "100%|##########| 286/286 [00:47<00:00,  6.04it/s]\n"
     ]
    },
    {
     "name": "stdout",
     "output_type": "stream",
     "text": [
      "Models [9, 7, 0] got 0.8708228333515942 on validation.\n"
     ]
    },
    {
     "name": "stderr",
     "output_type": "stream",
     "text": [
      "100%|##########| 286/286 [00:43<00:00,  6.55it/s]\n"
     ]
    },
    {
     "name": "stdout",
     "output_type": "stream",
     "text": [
      "Models [9, 7, 6] got 0.8713706584858113 on validation.\n"
     ]
    },
    {
     "name": "stderr",
     "output_type": "stream",
     "text": [
      "100%|##########| 286/286 [00:43<00:00,  6.52it/s]\n"
     ]
    },
    {
     "name": "stdout",
     "output_type": "stream",
     "text": [
      "Models [9, 7, 6, 1] got 0.8738906541032102 on validation.\n"
     ]
    },
    {
     "name": "stderr",
     "output_type": "stream",
     "text": [
      "100%|##########| 286/286 [00:43<00:00,  6.63it/s]\n"
     ]
    },
    {
     "name": "stdout",
     "output_type": "stream",
     "text": [
      "Models [9, 7, 6, 1, 2] got 0.874328914210584 on validation.\n"
     ]
    },
    {
     "name": "stderr",
     "output_type": "stream",
     "text": [
      "100%|##########| 286/286 [00:43<00:00,  6.51it/s]\n"
     ]
    },
    {
     "name": "stdout",
     "output_type": "stream",
     "text": [
      "Models [9, 7, 6, 1, 2, 3] got 0.8675358825462912 on validation.\n"
     ]
    },
    {
     "name": "stderr",
     "output_type": "stream",
     "text": [
      "100%|##########| 286/286 [00:44<00:00,  6.38it/s]\n"
     ]
    },
    {
     "name": "stdout",
     "output_type": "stream",
     "text": [
      "Models [9, 7, 6, 1, 2, 4] got 0.8744384792374275 on validation.\n"
     ]
    },
    {
     "name": "stderr",
     "output_type": "stream",
     "text": [
      "100%|##########| 286/286 [00:43<00:00,  6.50it/s]\n"
     ]
    },
    {
     "name": "stdout",
     "output_type": "stream",
     "text": [
      "Models [9, 7, 6, 1, 2, 4, 5] got 0.8746576092911142 on validation.\n"
     ]
    },
    {
     "name": "stderr",
     "output_type": "stream",
     "text": [
      "100%|##########| 286/286 [00:43<00:00,  6.53it/s]\n"
     ]
    },
    {
     "name": "stdout",
     "output_type": "stream",
     "text": [
      "Models [9, 7, 6, 1, 2, 4, 5, 11] got 0.875095869398488 on validation.\n"
     ]
    },
    {
     "name": "stderr",
     "output_type": "stream",
     "text": [
      "100%|##########| 286/286 [00:45<00:00,  6.22it/s]\n"
     ]
    },
    {
     "name": "stdout",
     "output_type": "stream",
     "text": [
      "Models [9, 7, 6, 1, 2, 4, 5, 11, 8] got 0.8744384792374275 on validation.\n"
     ]
    },
    {
     "name": "stderr",
     "output_type": "stream",
     "text": [
      "100%|##########| 286/286 [00:49<00:00,  5.78it/s]\n"
     ]
    },
    {
     "name": "stdout",
     "output_type": "stream",
     "text": [
      "Models [9, 7, 6, 1, 2, 4, 5, 11, 10] got 0.8742193491837406 on validation.\n"
     ]
    },
    {
     "name": "stderr",
     "output_type": "stream",
     "text": [
      "100%|##########| 286/286 [00:51<00:00,  5.60it/s]\n"
     ]
    },
    {
     "name": "stdout",
     "output_type": "stream",
     "text": [
      "Models [9, 7, 6, 1, 2, 4, 5, 11, 0] got 0.87356195902268 on validation.\n"
     ]
    },
    {
     "name": "stderr",
     "output_type": "stream",
     "text": [
      "100%|##########| 286/286 [00:52<00:00,  5.40it/s]\n"
     ]
    },
    {
     "name": "stdout",
     "output_type": "stream",
     "text": [
      "Models [9, 7, 6, 1, 2, 4, 5, 11, 3] got 0.8723567437274022 on validation.\n"
     ]
    },
    {
     "name": "stderr",
     "output_type": "stream",
     "text": [
      "100%|##########| 286/286 [00:51<00:00,  5.58it/s]\n"
     ]
    },
    {
     "name": "stdout",
     "output_type": "stream",
     "text": [
      "Models [9, 7, 6, 1, 2, 4, 5, 11, 8] got 0.8744384792374275 on validation.\n"
     ]
    },
    {
     "name": "stderr",
     "output_type": "stream",
     "text": [
      "100%|##########| 286/286 [00:47<00:00,  6.06it/s]\n"
     ]
    },
    {
     "name": "stdout",
     "output_type": "stream",
     "text": [
      "Models [9, 7, 6, 1, 2, 4, 5, 11, 10] got 0.8742193491837406 on validation.\n"
     ]
    },
    {
     "name": "stderr",
     "output_type": "stream",
     "text": [
      "100%|##########| 286/286 [00:47<00:00,  6.00it/s]\n"
     ]
    },
    {
     "name": "stdout",
     "output_type": "stream",
     "text": [
      "Models [9, 7, 6, 1, 2, 4, 5, 11, 0] got 0.87356195902268 on validation.\n"
     ]
    },
    {
     "name": "stderr",
     "output_type": "stream",
     "text": [
      "100%|##########| 286/286 [00:49<00:00,  5.78it/s]\n"
     ]
    },
    {
     "name": "stdout",
     "output_type": "stream",
     "text": [
      "Models [9, 7, 6, 1, 2, 4, 5, 11, 3] got 0.8723567437274022 on validation.\n",
      "VAL INGREDIENTS [9, 7, 6, 1, 2, 4, 5, 11]\n"
     ]
    },
    {
     "name": "stderr",
     "output_type": "stream",
     "text": [
      "100%|##########| 286/286 [00:47<00:00,  5.97it/s]\n"
     ]
    },
    {
     "name": "stdout",
     "output_type": "stream",
     "text": [
      "Greedy souping accuracy: 0.875095869398488\n",
      "Greedy souping version 3 ...\n",
      "[3, 2, 1, 6, 0, 10, 8, 11, 5, 4, 7, 9]\n",
      "currentttttttt bestttttttt 0.8690697929220993\n"
     ]
    },
    {
     "name": "stderr",
     "output_type": "stream",
     "text": [
      "100%|##########| 286/286 [00:48<00:00,  5.90it/s]\n"
     ]
    },
    {
     "name": "stdout",
     "output_type": "stream",
     "text": [
      "Models [2, 1, 6, 0, 10, 8, 11, 5, 4, 7, 9] got 0.8733428289689931 on validation.\n"
     ]
    },
    {
     "name": "stderr",
     "output_type": "stream",
     "text": [
      "100%|##########| 286/286 [00:48<00:00,  5.85it/s]\n"
     ]
    },
    {
     "name": "stdout",
     "output_type": "stream",
     "text": [
      "Models [1, 6, 0, 10, 8, 11, 5, 4, 7, 9] got 0.872575873781089 on validation.\n"
     ]
    },
    {
     "name": "stderr",
     "output_type": "stream",
     "text": [
      "100%|##########| 286/286 [00:49<00:00,  5.82it/s]\n"
     ]
    },
    {
     "name": "stdout",
     "output_type": "stream",
     "text": [
      "Models [2, 6, 0, 10, 8, 11, 5, 4, 7, 9] got 0.8731236989153063 on validation.\n"
     ]
    },
    {
     "name": "stderr",
     "output_type": "stream",
     "text": [
      "100%|##########| 286/286 [00:47<00:00,  6.06it/s]\n"
     ]
    },
    {
     "name": "stdout",
     "output_type": "stream",
     "text": [
      "Models [2, 1, 0, 10, 8, 11, 5, 4, 7, 9] got 0.8732332639421496 on validation.\n"
     ]
    },
    {
     "name": "stderr",
     "output_type": "stream",
     "text": [
      "100%|##########| 286/286 [00:50<00:00,  5.67it/s]\n"
     ]
    },
    {
     "name": "stdout",
     "output_type": "stream",
     "text": [
      "Models [2, 1, 6, 10, 8, 11, 5, 4, 7, 9] got 0.8734523939958365 on validation.\n"
     ]
    },
    {
     "name": "stderr",
     "output_type": "stream",
     "text": [
      "100%|##########| 286/286 [00:46<00:00,  6.11it/s]\n"
     ]
    },
    {
     "name": "stdout",
     "output_type": "stream",
     "text": [
      "Models [1, 6, 10, 8, 11, 5, 4, 7, 9] got 0.8719184836200284 on validation.\n"
     ]
    },
    {
     "name": "stderr",
     "output_type": "stream",
     "text": [
      "100%|##########| 286/286 [00:45<00:00,  6.33it/s]\n"
     ]
    },
    {
     "name": "stdout",
     "output_type": "stream",
     "text": [
      "Models [2, 6, 10, 8, 11, 5, 4, 7, 9] got 0.8723567437274022 on validation.\n"
     ]
    },
    {
     "name": "stderr",
     "output_type": "stream",
     "text": [
      "100%|##########| 286/286 [00:45<00:00,  6.32it/s]\n"
     ]
    },
    {
     "name": "stdout",
     "output_type": "stream",
     "text": [
      "Models [2, 1, 10, 8, 11, 5, 4, 7, 9] got 0.8734523939958365 on validation.\n"
     ]
    },
    {
     "name": "stderr",
     "output_type": "stream",
     "text": [
      "100%|##########| 286/286 [00:46<00:00,  6.20it/s]\n"
     ]
    },
    {
     "name": "stdout",
     "output_type": "stream",
     "text": [
      "Models [2, 1, 6, 8, 11, 5, 4, 7, 9] got 0.8744384792374275 on validation.\n"
     ]
    },
    {
     "name": "stderr",
     "output_type": "stream",
     "text": [
      "100%|##########| 286/286 [00:45<00:00,  6.29it/s]\n"
     ]
    },
    {
     "name": "stdout",
     "output_type": "stream",
     "text": [
      "Models [1, 6, 8, 11, 5, 4, 7, 9] got 0.872575873781089 on validation.\n"
     ]
    },
    {
     "name": "stderr",
     "output_type": "stream",
     "text": [
      "100%|##########| 286/286 [00:45<00:00,  6.35it/s]\n"
     ]
    },
    {
     "name": "stdout",
     "output_type": "stream",
     "text": [
      "Models [2, 6, 8, 11, 5, 4, 7, 9] got 0.8726854388079325 on validation.\n"
     ]
    },
    {
     "name": "stderr",
     "output_type": "stream",
     "text": [
      "100%|##########| 286/286 [00:45<00:00,  6.27it/s]\n"
     ]
    },
    {
     "name": "stdout",
     "output_type": "stream",
     "text": [
      "Models [2, 1, 8, 11, 5, 4, 7, 9] got 0.8742193491837406 on validation.\n"
     ]
    },
    {
     "name": "stderr",
     "output_type": "stream",
     "text": [
      "100%|##########| 286/286 [00:44<00:00,  6.36it/s]\n"
     ]
    },
    {
     "name": "stdout",
     "output_type": "stream",
     "text": [
      "Models [2, 1, 6, 11, 5, 4, 7, 9] got 0.875095869398488 on validation.\n"
     ]
    },
    {
     "name": "stderr",
     "output_type": "stream",
     "text": [
      "100%|##########| 286/286 [00:45<00:00,  6.23it/s]\n"
     ]
    },
    {
     "name": "stdout",
     "output_type": "stream",
     "text": [
      "Models [1, 6, 11, 5, 4, 7, 9] got 0.8733428289689931 on validation.\n"
     ]
    },
    {
     "name": "stderr",
     "output_type": "stream",
     "text": [
      "100%|##########| 286/286 [00:44<00:00,  6.49it/s]\n"
     ]
    },
    {
     "name": "stdout",
     "output_type": "stream",
     "text": [
      "Models [2, 6, 11, 5, 4, 7, 9] got 0.8731236989153063 on validation.\n"
     ]
    },
    {
     "name": "stderr",
     "output_type": "stream",
     "text": [
      "100%|##########| 286/286 [00:43<00:00,  6.54it/s]\n"
     ]
    },
    {
     "name": "stdout",
     "output_type": "stream",
     "text": [
      "Models [2, 1, 11, 5, 4, 7, 9] got 0.8747671743179577 on validation.\n"
     ]
    },
    {
     "name": "stderr",
     "output_type": "stream",
     "text": [
      "100%|##########| 286/286 [00:46<00:00,  6.20it/s]\n"
     ]
    },
    {
     "name": "stdout",
     "output_type": "stream",
     "text": [
      "Models [2, 1, 6, 5, 4, 7, 9] got 0.8746576092911142 on validation.\n"
     ]
    },
    {
     "name": "stderr",
     "output_type": "stream",
     "text": [
      "100%|##########| 286/286 [00:49<00:00,  5.83it/s]\n"
     ]
    },
    {
     "name": "stdout",
     "output_type": "stream",
     "text": [
      "Models [2, 1, 6, 11, 4, 7, 9] got 0.8742193491837406 on validation.\n"
     ]
    },
    {
     "name": "stderr",
     "output_type": "stream",
     "text": [
      "100%|##########| 286/286 [00:51<00:00,  5.54it/s]\n"
     ]
    },
    {
     "name": "stdout",
     "output_type": "stream",
     "text": [
      "Models [2, 1, 6, 11, 5, 7, 9] got 0.8748767393448011 on validation.\n"
     ]
    },
    {
     "name": "stderr",
     "output_type": "stream",
     "text": [
      "100%|##########| 286/286 [00:46<00:00,  6.14it/s]\n"
     ]
    },
    {
     "name": "stdout",
     "output_type": "stream",
     "text": [
      "Models [2, 1, 6, 11, 5, 4, 9] got 0.8741097841568971 on validation.\n"
     ]
    },
    {
     "name": "stderr",
     "output_type": "stream",
     "text": [
      "100%|##########| 286/286 [00:47<00:00,  6.07it/s]\n"
     ]
    },
    {
     "name": "stdout",
     "output_type": "stream",
     "text": [
      "Models [2, 1, 6, 11, 5, 4, 7] got 0.8748767393448011 on validation.\n",
      "VAL INGREDIENTS [2, 1, 6, 11, 5, 4, 7, 9]\n"
     ]
    },
    {
     "name": "stderr",
     "output_type": "stream",
     "text": [
      "100%|##########| 286/286 [00:44<00:00,  6.41it/s]"
     ]
    },
    {
     "name": "stdout",
     "output_type": "stream",
     "text": [
      "Greedy souping accuracy: 0.875095869398488\n"
     ]
    },
    {
     "name": "stderr",
     "output_type": "stream",
     "text": [
      "\n"
     ]
    }
   ],
   "source": [
    "results_val_df = pd.DataFrame(val_results)\n",
    "\n",
    "val_copy = results_val_df.copy()\n",
    "sorted_val = val_copy.sort_values(by= 'Val Accuracy',ascending=False)\n",
    "sorted_val.to_csv(os.path.join(test_save_path, \"VAL_RESULTS.csv\"), index=False)\n",
    "\n",
    "print(f\"Best model Val Accuracy: {sorted_val.iloc[0]['Val Accuracy']}\")\n",
    "print(f\"Second best model Val Accuracy: {sorted_val.iloc[1]['Val Accuracy']}\")\n",
    "print(f\"Worst model Val Accuracy: {sorted_val.iloc[-1]['Val Accuracy']}\")\n",
    "\n",
    "#UNIFORM\n",
    "print(\"Uniform souping ...\")\n",
    "alphal = [1 / len(state_dicts) for i in range(len(state_dicts))]\n",
    "model = get_model(MODEL, PRETRAINED, num_classes, FREEZE)\n",
    "uniform_model = souping(model, state_dicts, alphal)\n",
    "uniform_model.to(DEVICE)\n",
    "\n",
    "uniform_test_loss, uniform_test_acc  = val_step(uniform_model, test_loader, loss, DEVICE)\n",
    "print(f\"Uniform souping accuracy: {uniform_test_acc}\")\n",
    "\n",
    "#greedy\n",
    "\n",
    "print(\"Greedy souping ...\")\n",
    "model = get_model(MODEL, PRETRAINED, num_classes, FREEZE)\n",
    "\n",
    "val_res = list(results_val_df['Val Accuracy'])\n",
    "greedy_model, best_ingredients = greedy_souping(state_dicts, val_res, test_loader, loss, DEVICE, num_classes)\n",
    "greedy_model.to(DEVICE)\n",
    "print('VAL INGREDIENTS',best_ingredients)\n",
    "greedy_test_loss, greedy_test_acc = val_step(greedy_model, test_loader, loss, DEVICE)\n",
    "\n",
    "print(f\"Greedy souping accuracy: {greedy_test_acc}\")\n",
    "\n",
    "\n",
    "print(\"Greedy souping version 2 ...\")\n",
    "model = get_model(MODEL, PRETRAINED, num_classes, FREEZE)\n",
    "\n",
    "val_res = list(results_val_df['Val Accuracy'])\n",
    "greedy_model, best_ingredients = greedy_souping_2(state_dicts, val_res, test_loader, loss, DEVICE, num_classes)\n",
    "greedy_model.to(DEVICE)\n",
    "print('VAL INGREDIENTS',best_ingredients)\n",
    "greedy_test_loss, greedy_test_acc = val_step(greedy_model, test_loader, loss, DEVICE)\n",
    "\n",
    "print(f\"Greedy souping accuracy: {greedy_test_acc}\")\n",
    "\n",
    "\n",
    "print(\"Greedy souping version 3 ...\")\n",
    "model = get_model(MODEL, PRETRAINED, num_classes, FREEZE)\n",
    "\n",
    "val_res = list(results_val_df['Val Accuracy'])\n",
    "greedy_model, best_ingredients = greedy_souping_3_sorted(state_dicts, val_res, test_loader, loss, DEVICE, num_classes, sorted_val.iloc[0]['Val Accuracy'])\n",
    "greedy_model.to(DEVICE)\n",
    "print('VAL INGREDIENTS',best_ingredients)\n",
    "greedy_test_loss, greedy_test_acc = val_step(greedy_model, test_loader, loss, DEVICE)\n",
    "\n",
    "print(f\"Greedy souping accuracy: {greedy_test_acc}\")\n",
    "\n"
   ]
  }
 ],
 "metadata": {
  "kernelspec": {
   "display_name": "CV701_env",
   "language": "python",
   "name": "python3"
  },
  "language_info": {
   "codemirror_mode": {
    "name": "ipython",
    "version": 3
   },
   "file_extension": ".py",
   "mimetype": "text/x-python",
   "name": "python",
   "nbconvert_exporter": "python",
   "pygments_lexer": "ipython3",
   "version": "3.8.17"
  },
  "orig_nbformat": 4
 },
 "nbformat": 4,
 "nbformat_minor": 2
}
